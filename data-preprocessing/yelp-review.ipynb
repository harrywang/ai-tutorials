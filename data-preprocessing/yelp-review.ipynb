{
 "cells": [
  {
   "cell_type": "code",
   "execution_count": 1,
   "metadata": {},
   "outputs": [],
   "source": [
    "# random sample 200 from a json file yelp_academic_dataset_review.json without loading the whole file and save to another json file \n",
    "import json\n",
    "import random\n",
    "\n",
    "# Specify the input and output file paths\n",
    "input_file = \"yelp_academic_dataset_review.json\"\n",
    "output_file = \"sample_reviews.json\""
   ]
  },
  {
   "cell_type": "code",
   "execution_count": 6,
   "metadata": {},
   "outputs": [
    {
     "name": "stdout",
     "output_type": "stream",
     "text": [
      "{\"review_id\":\"KU_O5udG6zpxOg-VcAEodg\",\"user_id\":\"mh_-eMZ6K5RLWhZyISBhwA\",\"business_id\":\"XQfwVwDr-v0ZS3_CbbE5Xw\",\"stars\":3.0,\"useful\":0,\"funny\":0,\"cool\":0,\"text\":\"If you decide to eat here, just be aware it is going to take about 2 hours from beginning to end. We have tried it multiple times, because I want to like it! I have been to it's other locations in NJ and never had a bad experience. \\n\\nThe food is good, but it takes a very long time to come out. The waitstaff is very young, but usually pleasant. We have just had too many experiences where we spent way too long waiting. We usually opt for another diner or restaurant on the weekends, in order to be done quicker.\",\"date\":\"2018-07-07 22:09:11\"}\n",
      "{\"review_id\":\"BiTunyQ73aT9WBnpR9DZGw\",\"user_id\":\"OyoGAe7OKpv6SyGZT5g77Q\",\"business_id\":\"7ATYjTIgM3jUlt4UM3IypQ\",\"stars\":5.0,\"useful\":1,\"funny\":0,\"cool\":1,\"text\":\"I've taken a lot of spin classes over the years, and nothing compares to the classes at Body Cycle. From the nice, clean space and amazing bikes, to the welcoming and motivating instructors, every class is a top notch work out.\\n\\nFor anyone who struggles to fit workouts in, the online scheduling system makes it easy to plan ahead (and there's no need to line up way in advanced like many gyms make you do).\\n\\nThere is no way I can write this review without giving Russell, the owner of Body Cycle, a shout out. Russell's passion for fitness and cycling is so evident, as is his desire for all of his clients to succeed. He is always dropping in to classes to check in\\/provide encouragement, and is open to ideas and recommendations from anyone. Russell always wears a smile on his face, even when he's kicking your butt in class!\",\"date\":\"2012-01-03 15:28:18\"}\n",
      "{\"review_id\":\"saUsX_uimxRlCVr67Z4Jig\",\"user_id\":\"8g_iMtfSiwikVnbP2etR0A\",\"business_id\":\"YjUWPpI6HXG530lwP-fb2A\",\"stars\":3.0,\"useful\":0,\"funny\":0,\"cool\":0,\"text\":\"Family diner. Had the buffet. Eclectic assortment: a large chicken leg, fried jalapeño, tamale, two rolled grape leaves, fresh melon. All good. Lots of Mexican choices there. Also has a menu with breakfast served all day long. Friendly, attentive staff. Good place for a casual relaxed meal with no expectations. Next to the Clarion Hotel.\",\"date\":\"2014-02-05 20:30:30\"}\n",
      "{\"review_id\":\"AqPFMleE6RsU23_auESxiA\",\"user_id\":\"_7bHUi9Uuf5__HHc_Q8guQ\",\"business_id\":\"kxX2SOes4o-D3ZQBkiMRfA\",\"stars\":5.0,\"useful\":1,\"funny\":0,\"cool\":1,\"text\":\"Wow!  Yummy, different,  delicious.   Our favorite is the lamb curry and korma.  With 10 different kinds of naan!!!  Don't let the outside deter you (because we almost changed our minds)...go in and try something new!   You'll be glad you did!\",\"date\":\"2015-01-04 00:01:03\"}\n",
      "{\"review_id\":\"Sx8TMOWLNuJBWer-0pcmoA\",\"user_id\":\"bcjbaE6dDog4jkNY91ncLQ\",\"business_id\":\"e4Vwtrqf-wpJfwesgvdgxQ\",\"stars\":4.0,\"useful\":1,\"funny\":0,\"cool\":1,\"text\":\"Cute interior and owner (?) gave us tour of upcoming patio\\/rooftop area which will be great on beautiful days like today. Cheese curds were very good and very filling. Really like that sandwiches come w salad, esp after eating too many curds! Had the onion, gruyere, tomato sandwich. Wasn't too much cheese which I liked. Needed something else...pepper jelly maybe. Would like to see more menu options added such as salads w fun cheeses. Lots of beer and wine as well as limited cocktails. Next time I will try one of the draft wines.\",\"date\":\"2017-01-14 20:54:15\"}\n",
      "{\"review_id\":\"JrIxlS1TzJ-iCu79ul40cQ\",\"user_id\":\"eUta8W_HdHMXPzLBBZhL1A\",\"business_id\":\"04UD14gamNjLY0IDYVhHJg\",\"stars\":1.0,\"useful\":1,\"funny\":2,\"cool\":1,\"text\":\"I am a long term frequent customer of this establishment. I just went in to order take out (3 apps) and was told they're too busy to do it. Really? The place is maybe half full at best. Does your dick reach your ass? Yes? Go fuck yourself! I'm a frequent customer AND great tipper. Glad that Kanella just opened. NEVER going back to dmitris!\",\"date\":\"2015-09-23 23:10:31\"}\n",
      "{\"review_id\":\"6AxgBCNX_PNTOxmbRSwcKQ\",\"user_id\":\"r3zeYsv1XFBRA4dJpL78cw\",\"business_id\":\"gmjsEdUsKpj9Xxu6pdjH0g\",\"stars\":5.0,\"useful\":0,\"funny\":2,\"cool\":0,\"text\":\"Loved this tour! I grabbed a groupon and the price was great. It was the perfect way to explore New Orleans for someone who'd never been there before and didn't know a lot about the history of the city. Our tour guide had tons of interesting tidbits about the city, and I really enjoyed the experience. Highly recommended tour. I actually thought we were just going to tour through the cemetery, but she took us around the French Quarter for the first hour, and the cemetery for the second half of the tour. You'll meet up in front of a grocery store (seems strange at first, but it's not terribly hard to find, and it'll give you a chance to get some water), and you'll stop at a visitor center part way through the tour for a bathroom break if needed. This tour was one of my favorite parts of my trip!\",\"date\":\"2015-01-03 23:21:18\"}\n",
      "{\"review_id\":\"_ZeMknuYdlQcUqng_Im3yg\",\"user_id\":\"yfFzsLmaWF2d4Sr0UNbBgg\",\"business_id\":\"LHSTtnW3YHCeUkRDGyJOyw\",\"stars\":5.0,\"useful\":2,\"funny\":0,\"cool\":0,\"text\":\"Amazingly amazing wings and homemade bleu cheese. Had the ribeye: tender, perfectly prepared, delicious. Nice selection of craft beers. Would DEFINITELY recommend checking out this hidden gem.\",\"date\":\"2015-08-07 02:29:16\"}\n",
      "{\"review_id\":\"ZKvDG2sBvHVdF5oBNUOpAQ\",\"user_id\":\"wSTuiTk-sKNdcFyprzZAjg\",\"business_id\":\"B5XSoSG3SfvQGtKEGQ1tSQ\",\"stars\":3.0,\"useful\":1,\"funny\":1,\"cool\":0,\"text\":\"This easter instead of going to Lopez Lake we went to Los Padres National Forest which is really pretty but if you go to white rock the staff needs to cut down all the dead grass that invades the rock and the water. I would wish the staff would also clean or get rid of the dead grass that's also living by the water. The water is really green and dirty. Los padres national forest staff need to work hard to maintain this forest looking pretty and not like a dumpster. Even Cachuma lake looks like they put a bit more effort.\",\"date\":\"2016-03-30 22:46:33\"}\n",
      "{\"review_id\":\"pUycOfUwM8vqX7KjRRhUEA\",\"user_id\":\"59MxRhNVhU9MYndMkz0wtw\",\"business_id\":\"gebiRewfieSdtt17PTW6Zg\",\"stars\":3.0,\"useful\":0,\"funny\":0,\"cool\":0,\"text\":\"Had a party of 6 here for hibachi. Our waitress brought our separate sushi orders on one plate so we couldn't really tell who's was who's and forgot several items on an order. I understand making mistakes but the restaraunt was really quiet so we were kind of surprised. Usually hibachi is a fun lively experience and our  cook  said maybe three words, but he cooked very well his name was Francisco. Service was fishy, food was pretty good, and im hoping it was just an off night here. But for the money I wouldn't go back.\",\"date\":\"2016-07-25 07:31:06\"}\n",
      "{\"review_id\":\"rGQRf8UafX7OTlMNN19I8A\",\"user_id\":\"1WHRWwQmZOZDAhp2Qyny4g\",\"business_id\":\"uMvVYRgGNXf5boolA9HXTw\",\"stars\":5.0,\"useful\":2,\"funny\":0,\"cool\":0,\"text\":\"My experience with Shalimar was nothing but wonderful. \\nI wanted to get my engagement ring sized and was told over the phone that it could probably be done within the day. \\nWhen I brought it by, the team confirmed that the jeweler would be able to accommodate my same-day request and that it would be around $40 (simple band, decrease by three full sizes).\\nI checked my size one more time, confirmed, and left to let them do their thing.\\nWhen I came to pick up later that afternoon, the ring was too small. It's very important to note that Shalimar sized the ring perfectly, but that I made a mistake and should've gone up a half-size.\\nThe Shalimar group were completely understanding and accommodating, even resizing my ring back up and getting it back to me within an hour at no charge! Even though it was my mistake!\\nThe associates' attitudes in dealing with what was a pretty embarrassing situation instantly earned my satisfaction and loyalty as a customer. Very grateful for such a wonderful experience.\",\"date\":\"2015-06-21 14:48:06\"}\n",
      "{\"review_id\":\"l3Wk_mvAog6XANIuGQ9C7Q\",\"user_id\":\"ZbqSHbgCjzVAqaa7NKWn5A\",\"business_id\":\"EQ-TZ2eeD_E0BHuvoaeG5Q\",\"stars\":4.0,\"useful\":0,\"funny\":0,\"cool\":0,\"text\":\"Locals recommended Milktooth, and it's an amazing jewel of Indianapolis. I'm glade I had the chance to experience this.\",\"date\":\"2015-08-19 14:31:45\"}\n",
      "{\"review_id\":\"XW_LfMv0fV21l9c6xQd_lw\",\"user_id\":\"9OAtfnWag-ajVxRbUTGIyg\",\"business_id\":\"lj-E32x9_FA7GmUrBGBEWg\",\"stars\":4.0,\"useful\":0,\"funny\":0,\"cool\":0,\"text\":\"Love going here for happy hour or dinner!  Great patio with fans to beat the StL heat!   Also...very accomodating at this location.  I like the Veal Milanese but with mixed greens instead of pasta!  they'll modify the menu to suit your taste!\",\"date\":\"2014-06-27 22:44:01\"}\n",
      "{\"review_id\":\"8JFGBuHMoiNDyfcxuWNtrA\",\"user_id\":\"smOvOajNG0lS4Pq7d8g4JQ\",\"business_id\":\"RZtGWDLCAtuipwaZ-UfjmQ\",\"stars\":4.0,\"useful\":0,\"funny\":0,\"cool\":0,\"text\":\"Good food--loved the gnocchi with marinara\\nthe baked eggplant appetizer was very good too\\n\\nThe service was very slow, but despite this, I'd go back, the food is just that good\",\"date\":\"2009-10-14 19:57:14\"}\n",
      "{\"review_id\":\"UBp0zWyH60Hmw6Fsasei7w\",\"user_id\":\"4Uh27DgGzsp6PqrH913giQ\",\"business_id\":\"otQS34_MymijPTdNBoBdCw\",\"stars\":4.0,\"useful\":0,\"funny\":2,\"cool\":0,\"text\":\"The bun makes the Sonoran Dog. It's like a snuggie for the pup. A first, it seems ridiculous and almost like it's going to be too much, exactly like everyone's favorite blanket with sleeves. Too much softness, too much smush, too indulgent.  Wrong. It's warm, soft, chewy, fragrant, and it succeeds where other famed Sonoran Dogs fail. \\n\\nThe hot dog itself is flavorful, but I would prefer that it or the bacon have a little more bite or snap to better hold their own against the dominant mustard and onions. \\n\\nI'm with the masses on the carne asada caramelo. Excellent tortilla, salty, melty cheese, and great carne. \\n\\nSuper cheap and you can drive through.\",\"date\":\"2011-10-27 17:12:05\"}\n",
      "{\"review_id\":\"OAhBY\n",
      "['{\"review_id\":\"KU_O5udG6zpxOg-VcAEodg\",\"user_id\":\"mh_-eMZ6K5RLWhZyISBhwA\",\"business_id\":\"XQfwVwDr-v0ZS3_CbbE5Xw\",\"stars\":3.0,\"useful\":0,\"funny\":0,\"cool\":0,\"text\":\"If you decide to eat here, just be aware it is going to take about 2 hours from beginning to end. We have tried it multiple times, because I want to like it! I have been to it\\'s other locations in NJ and never had a bad experience. \\\\n\\\\nThe food is good, but it takes a very long time to come out. The waitstaff is very young, but usually pleasant. We have just had too many experiences where we spent way too long waiting. We usually opt for another diner or restaurant on the weekends, in order to be done quicker.\",\"date\":\"2018-07-07 22:09:11\"}', '{\"review_id\":\"BiTunyQ73aT9WBnpR9DZGw\",\"user_id\":\"OyoGAe7OKpv6SyGZT5g77Q\",\"business_id\":\"7ATYjTIgM3jUlt4UM3IypQ\",\"stars\":5.0,\"useful\":1,\"funny\":0,\"cool\":1,\"text\":\"I\\'ve taken a lot of spin classes over the years, and nothing compares to the classes at Body Cycle. From the nice, clean space and amazing bikes, to the welcoming and motivating instructors, every class is a top notch work out.\\\\n\\\\nFor anyone who struggles to fit workouts in, the online scheduling system makes it easy to plan ahead (and there\\'s no need to line up way in advanced like many gyms make you do).\\\\n\\\\nThere is no way I can write this review without giving Russell, the owner of Body Cycle, a shout out. Russell\\'s passion for fitness and cycling is so evident, as is his desire for all of his clients to succeed. He is always dropping in to classes to check in\\\\/provide encouragement, and is open to ideas and recommendations from anyone. Russell always wears a smile on his face, even when he\\'s kicking your butt in class!\",\"date\":\"2012-01-03 15:28:18\"}', '{\"review_id\":\"saUsX_uimxRlCVr67Z4Jig\",\"user_id\":\"8g_iMtfSiwikVnbP2etR0A\",\"business_id\":\"YjUWPpI6HXG530lwP-fb2A\",\"stars\":3.0,\"useful\":0,\"funny\":0,\"cool\":0,\"text\":\"Family diner. Had the buffet. Eclectic assortment: a large chicken leg, fried jalapeño, tamale, two rolled grape leaves, fresh melon. All good. Lots of Mexican choices there. Also has a menu with breakfast served all day long. Friendly, attentive staff. Good place for a casual relaxed meal with no expectations. Next to the Clarion Hotel.\",\"date\":\"2014-02-05 20:30:30\"}', '{\"review_id\":\"AqPFMleE6RsU23_auESxiA\",\"user_id\":\"_7bHUi9Uuf5__HHc_Q8guQ\",\"business_id\":\"kxX2SOes4o-D3ZQBkiMRfA\",\"stars\":5.0,\"useful\":1,\"funny\":0,\"cool\":1,\"text\":\"Wow!  Yummy, different,  delicious.   Our favorite is the lamb curry and korma.  With 10 different kinds of naan!!!  Don\\'t let the outside deter you (because we almost changed our minds)...go in and try something new!   You\\'ll be glad you did!\",\"date\":\"2015-01-04 00:01:03\"}', '{\"review_id\":\"Sx8TMOWLNuJBWer-0pcmoA\",\"user_id\":\"bcjbaE6dDog4jkNY91ncLQ\",\"business_id\":\"e4Vwtrqf-wpJfwesgvdgxQ\",\"stars\":4.0,\"useful\":1,\"funny\":0,\"cool\":1,\"text\":\"Cute interior and owner (?) gave us tour of upcoming patio\\\\/rooftop area which will be great on beautiful days like today. Cheese curds were very good and very filling. Really like that sandwiches come w salad, esp after eating too many curds! Had the onion, gruyere, tomato sandwich. Wasn\\'t too much cheese which I liked. Needed something else...pepper jelly maybe. Would like to see more menu options added such as salads w fun cheeses. Lots of beer and wine as well as limited cocktails. Next time I will try one of the draft wines.\",\"date\":\"2017-01-14 20:54:15\"}', '{\"review_id\":\"JrIxlS1TzJ-iCu79ul40cQ\",\"user_id\":\"eUta8W_HdHMXPzLBBZhL1A\",\"business_id\":\"04UD14gamNjLY0IDYVhHJg\",\"stars\":1.0,\"useful\":1,\"funny\":2,\"cool\":1,\"text\":\"I am a long term frequent customer of this establishment. I just went in to order take out (3 apps) and was told they\\'re too busy to do it. Really? The place is maybe half full at best. Does your dick reach your ass? Yes? Go fuck yourself! I\\'m a frequent customer AND great tipper. Glad that Kanella just opened. NEVER going back to dmitris!\",\"date\":\"2015-09-23 23:10:31\"}', '{\"review_id\":\"6AxgBCNX_PNTOxmbRSwcKQ\",\"user_id\":\"r3zeYsv1XFBRA4dJpL78cw\",\"business_id\":\"gmjsEdUsKpj9Xxu6pdjH0g\",\"stars\":5.0,\"useful\":0,\"funny\":2,\"cool\":0,\"text\":\"Loved this tour! I grabbed a groupon and the price was great. It was the perfect way to explore New Orleans for someone who\\'d never been there before and didn\\'t know a lot about the history of the city. Our tour guide had tons of interesting tidbits about the city, and I really enjoyed the experience. Highly recommended tour. I actually thought we were just going to tour through the cemetery, but she took us around the French Quarter for the first hour, and the cemetery for the second half of the tour. You\\'ll meet up in front of a grocery store (seems strange at first, but it\\'s not terribly hard to find, and it\\'ll give you a chance to get some water), and you\\'ll stop at a visitor center part way through the tour for a bathroom break if needed. This tour was one of my favorite parts of my trip!\",\"date\":\"2015-01-03 23:21:18\"}', '{\"review_id\":\"_ZeMknuYdlQcUqng_Im3yg\",\"user_id\":\"yfFzsLmaWF2d4Sr0UNbBgg\",\"business_id\":\"LHSTtnW3YHCeUkRDGyJOyw\",\"stars\":5.0,\"useful\":2,\"funny\":0,\"cool\":0,\"text\":\"Amazingly amazing wings and homemade bleu cheese. Had the ribeye: tender, perfectly prepared, delicious. Nice selection of craft beers. Would DEFINITELY recommend checking out this hidden gem.\",\"date\":\"2015-08-07 02:29:16\"}', '{\"review_id\":\"ZKvDG2sBvHVdF5oBNUOpAQ\",\"user_id\":\"wSTuiTk-sKNdcFyprzZAjg\",\"business_id\":\"B5XSoSG3SfvQGtKEGQ1tSQ\",\"stars\":3.0,\"useful\":1,\"funny\":1,\"cool\":0,\"text\":\"This easter instead of going to Lopez Lake we went to Los Padres National Forest which is really pretty but if you go to white rock the staff needs to cut down all the dead grass that invades the rock and the water. I would wish the staff would also clean or get rid of the dead grass that\\'s also living by the water. The water is really green and dirty. Los padres national forest staff need to work hard to maintain this forest looking pretty and not like a dumpster. Even Cachuma lake looks like they put a bit more effort.\",\"date\":\"2016-03-30 22:46:33\"}', '{\"review_id\":\"pUycOfUwM8vqX7KjRRhUEA\",\"user_id\":\"59MxRhNVhU9MYndMkz0wtw\",\"business_id\":\"gebiRewfieSdtt17PTW6Zg\",\"stars\":3.0,\"useful\":0,\"funny\":0,\"cool\":0,\"text\":\"Had a party of 6 here for hibachi. Our waitress brought our separate sushi orders on one plate so we couldn\\'t really tell who\\'s was who\\'s and forgot several items on an order. I understand making mistakes but the restaraunt was really quiet so we were kind of surprised. Usually hibachi is a fun lively experience and our  cook  said maybe three words, but he cooked very well his name was Francisco. Service was fishy, food was pretty good, and im hoping it was just an off night here. But for the money I wouldn\\'t go back.\",\"date\":\"2016-07-25 07:31:06\"}']\n"
     ]
    }
   ],
   "source": [
    "# sample 20000 lines from the input file\n",
    "with open(input_file, 'rb') as f:\n",
    "  data = f.read()\n",
    "  data_str = data.decode(\"utf-8\", errors='ignore')\n",
    "  print(data_str[:10000])\n",
    "\n",
    "# split the data by line\n",
    "data_lines = data_str.splitlines()\n",
    "# print the first 10 lines\n",
    "print(data_lines[:10])"
   ]
  },
  {
   "cell_type": "code",
   "execution_count": null,
   "metadata": {},
   "outputs": [],
   "source": [
    "# loop over data_lines and process each line as a json object\n"
   ]
  },
  {
   "cell_type": "code",
   "execution_count": 3,
   "metadata": {},
   "outputs": [
    {
     "name": "stdout",
     "output_type": "stream",
     "text": [
      "Sampled data saved to sample_reviews.json\n"
     ]
    }
   ],
   "source": [
    "\n",
    "\n",
    "# sample 1000 lines\n",
    "sampled_lines = random.sample(data_lines, 1000)\n",
    "\n",
    "# save the sampled lines to a new json file [{},{}] format\n",
    "sampled_data = \"[\" + \",\".join(sampled_lines) + \"]\"\n",
    "with open(output_file, \"w\") as f:\n",
    "    f.write(sampled_data)\n",
    "    print(\"Sampled data saved to\", output_file)\n"
   ]
  },
  {
   "cell_type": "code",
   "execution_count": 5,
   "metadata": {},
   "outputs": [
    {
     "name": "stdout",
     "output_type": "stream",
     "text": [
      "[423, 592, 417, 501, 430, 403, 469, 609, 473, 537]\n"
     ]
    }
   ],
   "source": [
    "# loop over data_lines\n",
    "\n"
   ]
  },
  {
   "cell_type": "code",
   "execution_count": 4,
   "metadata": {},
   "outputs": [
    {
     "name": "stdout",
     "output_type": "stream",
     "text": [
      "Sampled data saved to sample_reviews.csv\n"
     ]
    }
   ],
   "source": [
    "\n",
    "# load the sampled data from the json file\n",
    "with open(output_file, \"r\") as f:\n",
    "    sampled_data = json.load(f)\n",
    "\n",
    "# convert json to csv using pandas\n",
    "import pandas as pd\n",
    "df = pd.DataFrame(sampled_data)\n",
    "csv_file = \"sample_reviews.csv\"\n",
    "df.to_csv(csv_file, index=False)\n",
    "print(\"Sampled data saved to\", csv_file)\n",
    "\n"
   ]
  },
  {
   "cell_type": "code",
   "execution_count": null,
   "metadata": {},
   "outputs": [],
   "source": []
  }
 ],
 "metadata": {
  "kernelspec": {
   "display_name": "venv",
   "language": "python",
   "name": "python3"
  },
  "language_info": {
   "codemirror_mode": {
    "name": "ipython",
    "version": 3
   },
   "file_extension": ".py",
   "mimetype": "text/x-python",
   "name": "python",
   "nbconvert_exporter": "python",
   "pygments_lexer": "ipython3",
   "version": "3.10.6"
  }
 },
 "nbformat": 4,
 "nbformat_minor": 2
}
