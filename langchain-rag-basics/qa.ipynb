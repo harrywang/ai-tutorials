{
 "cells": [
  {
   "cell_type": "code",
   "execution_count": 1,
   "metadata": {},
   "outputs": [],
   "source": [
    "import os\n",
    "import openai\n",
    "import sys\n",
    "sys.path.append('../..')\n",
    "\n",
    "from dotenv import load_dotenv, find_dotenv\n",
    "_ = load_dotenv(find_dotenv()) # read local .env file\n",
    "\n",
    "openai.api_key  = os.environ['OPENAI_API_KEY']"
   ]
  },
  {
   "cell_type": "code",
   "execution_count": 2,
   "metadata": {},
   "outputs": [],
   "source": [
    "llm_name = \"gpt-3.5-turbo\"\n"
   ]
  },
  {
   "cell_type": "code",
   "execution_count": 3,
   "metadata": {},
   "outputs": [],
   "source": [
    "from langchain.vectorstores import Chroma\n",
    "from langchain_openai import OpenAIEmbeddings\n",
    "embedding = OpenAIEmbeddings(model=\"text-embedding-3-small\")\n",
    "\n",
    "persist_directory = 'data/chroma/'\n",
    "embedding = OpenAIEmbeddings()\n",
    "bookdb = Chroma(persist_directory=persist_directory, embedding_function=embedding)"
   ]
  },
  {
   "cell_type": "code",
   "execution_count": 4,
   "metadata": {},
   "outputs": [
    {
     "data": {
      "text/plain": [
       "180"
      ]
     },
     "execution_count": 4,
     "metadata": {},
     "output_type": "execute_result"
    }
   ],
   "source": [
    "bookdb._collection.count()"
   ]
  },
  {
   "cell_type": "code",
   "execution_count": 19,
   "metadata": {},
   "outputs": [
    {
     "data": {
      "text/plain": [
       "[Document(page_content='website we list a toll-free number that forwards to our mobile phones and on our business cards\\neach of us list our mobile numbers. We emphasize to our customers that they can get in touch', metadata={'page': 8, 'source': 'data/getting-real/getting-real-03-stay-lean.pdf'}),\n",
       " Document(page_content='website we list a toll-free number that forwards to our mobile phones and on our business cards\\neach of us list our mobile numbers. We emphasize to our customers that they can get in touch', metadata={'page': 8, 'source': 'data/getting-real/getting-real-03-stay-lean.pdf'}),\n",
       " Document(page_content='disagreement, meetings, and delays. These things can kill morale and lower your chances of\\nsuccess.\\nHow often have you found yourself stuck on a single design or code element for a whole day?\\nHow often have you realized that the progress you made today wasn’t real progress? This\\nhappens when you focus on details too early in the process. There’s plenty of time to be a\\nperfectionist. Just do it later.', metadata={'page': 2, 'source': 'data/getting-real/getting-real-04-priorities.pdf'}),\n",
       " Document(page_content='One, two, three…\\nHow does a project get to be a  year beh ind schedule? One day at a time.\\n—Fred Brooks, software engineer and computer scientist', metadata={'page': 6, 'source': 'data/getting-real/getting-real-02-starting-line.pdf'}),\n",
       " Document(page_content='How To Write Vigorous Software\\nVigorous writing is concise. A sentence should contain no unnecessary words, a paragraph no\\nunnecessary sentences, for the same reason that a drawing should have no unnecessary lines\\nand a machine no unnecessary parts. This requires not that the writer make all sentences short\\nor avoid all detail and treat subjects only in outline, but that every word tell.\\n—From “The Elements of Style” by William Strunk Jr.\\nNo more bloat', metadata={'page': 1, 'source': 'data/getting-real/getting-real-01-introduction.pdf'})]"
      ]
     },
     "execution_count": 19,
     "metadata": {},
     "output_type": "execute_result"
    }
   ],
   "source": [
    "question = \"why lean?\"\n",
    "docs = bookdb.similarity_search(question, k=5)\n",
    "docs"
   ]
  },
  {
   "cell_type": "code",
   "execution_count": 20,
   "metadata": {},
   "outputs": [],
   "source": [
    "from langchain_openai import ChatOpenAI\n",
    "llm = ChatOpenAI(model_name=llm_name, temperature=0)"
   ]
  },
  {
   "cell_type": "code",
   "execution_count": 21,
   "metadata": {},
   "outputs": [],
   "source": [
    "from langchain.chains import RetrievalQA"
   ]
  },
  {
   "cell_type": "code",
   "execution_count": 22,
   "metadata": {},
   "outputs": [],
   "source": [
    "qa_chain = RetrievalQA.from_chain_type(\n",
    "    llm,\n",
    "    retriever=bookdb.as_retriever()\n",
    ")"
   ]
  },
  {
   "cell_type": "code",
   "execution_count": 23,
   "metadata": {},
   "outputs": [
    {
     "data": {
      "text/plain": [
       "'Lean principles are often applied in business and project management to streamline processes, reduce waste, and improve efficiency. By focusing on delivering value to customers, eliminating unnecessary steps, and continuously improving, organizations can become more agile and responsive to changes in the market. Lean methodologies can help teams work more effectively, reduce costs, and deliver higher quality products or services.'"
      ]
     },
     "execution_count": 23,
     "metadata": {},
     "output_type": "execute_result"
    }
   ],
   "source": [
    "result = qa_chain.invoke({\"query\": question})\n",
    "result[\"result\"]"
   ]
  },
  {
   "cell_type": "code",
   "execution_count": 24,
   "metadata": {},
   "outputs": [],
   "source": [
    "from langchain.prompts import PromptTemplate\n",
    "\n",
    "# Build prompt\n",
    "template = \"\"\"\n",
    "Use the following pieces of context to answer the question at the end. If you don't know the answer, just say that you don't know, don't try to make up an answer. \n",
    "Use three sentences maximum. Keep the answer as concise as possible. Always say \"thanks for asking!\" at the end of the answer. \n",
    "{context}\n",
    "Question: {question}\n",
    "Helpful Answer:\"\"\"\n",
    "QA_CHAIN_PROMPT = PromptTemplate.from_template(template)"
   ]
  },
  {
   "cell_type": "code",
   "execution_count": 25,
   "metadata": {},
   "outputs": [
    {
     "data": {
      "text/plain": [
       "'Lean methodologies focus on eliminating waste, improving efficiency, and continuously improving processes. By implementing lean practices, businesses can streamline operations, reduce costs, and deliver more value to customers. Thanks for asking!'"
      ]
     },
     "execution_count": 25,
     "metadata": {},
     "output_type": "execute_result"
    }
   ],
   "source": [
    "# Run chain\n",
    "qa_chain = RetrievalQA.from_chain_type(\n",
    "    llm,\n",
    "    retriever=bookdb.as_retriever(),\n",
    "    return_source_documents=True,\n",
    "    chain_type_kwargs={\"prompt\": QA_CHAIN_PROMPT}\n",
    ")\n",
    "\n",
    "result = qa_chain.invoke({\"query\": question})\n",
    "result[\"result\"]"
   ]
  },
  {
   "cell_type": "code",
   "execution_count": 26,
   "metadata": {},
   "outputs": [
    {
     "data": {
      "text/plain": [
       "[Document(page_content='website we list a toll-free number that forwards to our mobile phones and on our business cards\\neach of us list our mobile numbers. We emphasize to our customers that they can get in touch', metadata={'page': 8, 'source': 'data/getting-real/getting-real-03-stay-lean.pdf'}),\n",
       " Document(page_content='website we list a toll-free number that forwards to our mobile phones and on our business cards\\neach of us list our mobile numbers. We emphasize to our customers that they can get in touch', metadata={'page': 8, 'source': 'data/getting-real/getting-real-03-stay-lean.pdf'}),\n",
       " Document(page_content='disagreement, meetings, and delays. These things can kill morale and lower your chances of\\nsuccess.\\nHow often have you found yourself stuck on a single design or code element for a whole day?\\nHow often have you realized that the progress you made today wasn’t real progress? This\\nhappens when you focus on details too early in the process. There’s plenty of time to be a\\nperfectionist. Just do it later.', metadata={'page': 2, 'source': 'data/getting-real/getting-real-04-priorities.pdf'}),\n",
       " Document(page_content='One, two, three…\\nHow does a project get to be a  year beh ind schedule? One day at a time.\\n—Fred Brooks, software engineer and computer scientist', metadata={'page': 6, 'source': 'data/getting-real/getting-real-02-starting-line.pdf'})]"
      ]
     },
     "execution_count": 26,
     "metadata": {},
     "output_type": "execute_result"
    }
   ],
   "source": [
    "result[\"source_documents\"]"
   ]
  },
  {
   "cell_type": "code",
   "execution_count": 33,
   "metadata": {},
   "outputs": [],
   "source": [
    "qa_chain = RetrievalQA.from_chain_type(\n",
    "    llm,\n",
    "    retriever=bookdb.as_retriever()\n",
    ")"
   ]
  },
  {
   "cell_type": "code",
   "execution_count": 35,
   "metadata": {},
   "outputs": [
    {
     "data": {
      "text/plain": [
       "'Yes, \"lean\" can be a topic discussed in books, particularly in the context of lean methodology, lean manufacturing, or lean principles in business management. It often refers to the concept of maximizing value while minimizing waste.'"
      ]
     },
     "execution_count": 35,
     "metadata": {},
     "output_type": "execute_result"
    }
   ],
   "source": [
    "question = \"Is lean a book topic?\"\n",
    "result = qa_chain.invoke({\"query\": question})\n",
    "result[\"result\"]"
   ]
  },
  {
   "cell_type": "code",
   "execution_count": 37,
   "metadata": {},
   "outputs": [
    {
     "data": {
      "text/plain": [
       "'It seems like you might be referring to the need for a simple and efficient project management tool like Basecamp or a fresh approach to email like HEY. These tools are designed to streamline communication, task management, and collaboration within a team, especially when working with constraints like a small team, different time zones, and limited resources. By using tools like Basecamp or HEY, teams can stay organized, focused, and productive despite challenges like those mentioned in the context.'"
      ]
     },
     "execution_count": 37,
     "metadata": {},
     "output_type": "execute_result"
    }
   ],
   "source": [
    "# no memory of previous question\n",
    "question = \"why that is needed?\"\n",
    "result = qa_chain.invoke({\"query\": question})\n",
    "result['result']"
   ]
  },
  {
   "cell_type": "code",
   "execution_count": null,
   "metadata": {},
   "outputs": [],
   "source": []
  },
  {
   "cell_type": "code",
   "execution_count": 27,
   "metadata": {},
   "outputs": [],
   "source": [
    "from langchain.memory import ConversationBufferMemory\n",
    "memory = ConversationBufferMemory(\n",
    "    memory_key=\"chat_history\",\n",
    "    return_messages=True\n",
    ")"
   ]
  },
  {
   "cell_type": "code",
   "execution_count": 29,
   "metadata": {},
   "outputs": [],
   "source": [
    "from langchain.chains import ConversationalRetrievalChain\n",
    "retriever=bookdb.as_retriever()\n",
    "qa = ConversationalRetrievalChain.from_llm(\n",
    "    llm,\n",
    "    retriever=retriever,\n",
    "    memory=memory\n",
    ")"
   ]
  },
  {
   "cell_type": "code",
   "execution_count": 31,
   "metadata": {},
   "outputs": [
    {
     "data": {
      "text/plain": [
       "'Lean is commonly discussed in books related to business management, entrepreneurship, and product development. The concept of lean principles and lean thinking is often applied in these contexts to streamline processes, eliminate waste, and improve efficiency. Lean methodologies are frequently used in industries such as manufacturing, software development, and healthcare to optimize operations and deliver value to customers.'"
      ]
     },
     "execution_count": 31,
     "metadata": {},
     "output_type": "execute_result"
    }
   ],
   "source": [
    "question = \"Is lean a book topic?\"\n",
    "result = qa.invoke({\"question\": question})\n",
    "result['answer']"
   ]
  },
  {
   "cell_type": "code",
   "execution_count": 32,
   "metadata": {},
   "outputs": [
    {
     "data": {
      "text/plain": [
       "'Lean principles are commonly discussed in books related to business management, entrepreneurship, and product development because they emphasize efficiency, minimizing waste, and continuous improvement. By focusing on delivering value to customers while reducing unnecessary processes and costs, lean methodologies help businesses operate more effectively and adapt to changing market conditions. This approach is particularly valuable in entrepreneurial ventures and product development where resources are often limited, and the ability to pivot quickly based on real-time information is crucial for success.'"
      ]
     },
     "execution_count": 32,
     "metadata": {},
     "output_type": "execute_result"
    }
   ],
   "source": [
    "question = \"why that is needed?\"\n",
    "result = qa.invoke({\"question\": question})\n",
    "result['answer']"
   ]
  },
  {
   "cell_type": "code",
   "execution_count": null,
   "metadata": {},
   "outputs": [],
   "source": []
  }
 ],
 "metadata": {
  "kernelspec": {
   "display_name": "venv",
   "language": "python",
   "name": "python3"
  },
  "language_info": {
   "codemirror_mode": {
    "name": "ipython",
    "version": 3
   },
   "file_extension": ".py",
   "mimetype": "text/x-python",
   "name": "python",
   "nbconvert_exporter": "python",
   "pygments_lexer": "ipython3",
   "version": "3.10.6"
  }
 },
 "nbformat": 4,
 "nbformat_minor": 2
}
