{
 "cells": [
  {
   "cell_type": "markdown",
   "metadata": {},
   "source": [
    "# Document Loading"
   ]
  },
  {
   "cell_type": "markdown",
   "metadata": {},
   "source": [
    "## Retrieval augmented generation\n",
    " \n",
    "In retrieval augmented generation (RAG), an LLM retrieves contextual documents from an external dataset as part of its execution. \n",
    "\n",
    "This is useful if we want to ask question about specific documents (e.g., our PDFs, a set of videos, etc). \n",
    "\n",
    "<img width=\"1047\" alt=\"Screenshot 2024-04-15 at 12 24 00 PM\" src=\"https://github.com/harrywang/langchain-short-course/assets/595772/0c3cdde0-831d-4e11-91f2-670abc580d89\">"
   ]
  },
  {
   "cell_type": "code",
   "execution_count": 1,
   "metadata": {},
   "outputs": [],
   "source": [
    "import os\n",
    "import openai\n",
    "\n",
    "from dotenv import load_dotenv, find_dotenv\n",
    "_ = load_dotenv(find_dotenv()) # read local .env file\n",
    "\n",
    "openai.api_key  = os.environ['OPENAI_API_KEY']"
   ]
  },
  {
   "cell_type": "markdown",
   "metadata": {},
   "source": [
    "# Load PDF\n",
    "Each page is a `Document`.\n",
    "\n",
    "A `Document` contains text (`page_content`) and `metadata`."
   ]
  },
  {
   "cell_type": "code",
   "execution_count": 2,
   "metadata": {},
   "outputs": [],
   "source": [
    "# load pdf\n",
    "from langchain.document_loaders import PyPDFLoader\n",
    "loader = PyPDFLoader(\"data/nba-rules-2023.pdf\")\n",
    "pages = loader.load()"
   ]
  },
  {
   "cell_type": "code",
   "execution_count": 3,
   "metadata": {},
   "outputs": [
    {
     "data": {
      "text/plain": [
       "74"
      ]
     },
     "execution_count": 3,
     "metadata": {},
     "output_type": "execute_result"
    }
   ],
   "source": [
    "len(pages)"
   ]
  },
  {
   "cell_type": "code",
   "execution_count": 4,
   "metadata": {},
   "outputs": [
    {
     "data": {
      "text/plain": [
       "'This Page Intentionally Left Blank  \\nIt is here to hold a place for cover for screen version.  \\nDO NOT INCLUDE AS PART OF PRINT FILE!\\nOFFICIAL\\nRULES'"
      ]
     },
     "execution_count": 4,
     "metadata": {},
     "output_type": "execute_result"
    }
   ],
   "source": [
    "# content people don't see\n",
    "page = pages[0]\n",
    "page.page_content\n"
   ]
  },
  {
   "cell_type": "code",
   "execution_count": 5,
   "metadata": {},
   "outputs": [
    {
     "data": {
      "text/plain": [
       "'- 2 -RULES INDEX\\n RULE SECTION ARTICLE PAGE\\nBACKCOURT/FRONTCOURT \\n\\t Definitions  .......................................  4 VI a & b 19\\n Eight (8) Second Violation  ..............  4 VI f 19\\n Player Position Status  ......................  4 VI c 19\\n Ball Position Status  ..........................  4 VI d, e, & g 19\\nBALL\\n Dead Ball  .........................................  6 IV a 26\\n Jump—Center Circle  .......................  6 V  26\\n Jump—Free Throw Circle  ...............  6 VI  27\\n Live Ball  ..........................................  6 II  26\\n Putting in Play  .................................  6 I  25\\n Restrictions  ......................................  6 VII  27\\n Starting of Games & Overtime(s)  .... 6 I a 25\\n Starting of 2nd, 3rd, & 4th Periods  .. 6 I b 25\\nBASKET RING, BACKBOARD, SUPPORT\\n\\t Definition  .........................................  4 I  17\\n Hanging (Intentional) .......................  12A  IV  40\\n Hanging (Prevent Injury)  .................  12A  IV b EXCEPTION 40\\nCAPTAIN, DUTIES  ..............................  3 III  15\\nCLOCK (GAME)\\n Expiration of Time (Horn)  ...............  2 VIII g  14\\n Expiration of Time (No Horn)  .........  2 VIII h 14\\n Starting—Jump Ball  ........................  2 VIII b 14\\n   5 VIII a(3) 24\\n Starting—Missed Free Throw  .........  5 VIII a(1) 24\\n Starting—Throw-in  .........................  5 VIII a(2) 24\\n Stopping—Last Minute  ...................  5 V b(1) 22\\n Stopping—Last Two (2) Minute  ...... 5 V b(2) 22\\nCLUB PERSONNEL  ............................  3 IV c 15\\nCOACH\\n Attire  ................................................  COMMENTS ON RULES H-3 67\\n Bench  ...............................................  3 IV d 15\\n Box  ...................................................  3 IV a 15\\n Conduct  ............................................  12A  V  41\\n   12A  VII f 43\\n Ejection  ............................................  3 IV e 16\\n   12A  V b 41\\n Player-Coach  ....................................  3 IV b 15\\n\\t Speaking\\tto\\tOfficials—Before\\t  \\n Start of Game or Periods ..................  2 II i 10\\n Suspension  .......................................  COMMENTS ON RULES E 67\\nCOACH’S CHALLENGE  .....................  14   58'"
      ]
     },
     "execution_count": 5,
     "metadata": {},
     "output_type": "execute_result"
    }
   ],
   "source": [
    "page = pages[1]\n",
    "page.page_content"
   ]
  },
  {
   "cell_type": "code",
   "execution_count": 6,
   "metadata": {},
   "outputs": [
    {
     "data": {
      "text/plain": [
       "{'source': 'data/nba-rules-2023.pdf', 'page': 1}"
      ]
     },
     "execution_count": 6,
     "metadata": {},
     "output_type": "execute_result"
    }
   ],
   "source": [
    "page.metadata"
   ]
  },
  {
   "cell_type": "code",
   "execution_count": 12,
   "metadata": {},
   "outputs": [
    {
     "name": "stdout",
     "output_type": "stream",
     "text": [
      "\n",
      "\n",
      "\n",
      "\n",
      "\n",
      "\n",
      "\n",
      "\n",
      "\n",
      "\n",
      "\n",
      "\n",
      "The Tech Stack that Works for My (AI) Startups | harrywang.me\n",
      "\n",
      "\n",
      "\n",
      "\n",
      "\n",
      "\n",
      "\n",
      "\n",
      "\n",
      "\n",
      "\n",
      "\n",
      "\n",
      "\n",
      "\n",
      "\n",
      "\n",
      "\n",
      "\n",
      "harrywang.me\n",
      "\n",
      "\n",
      "\n",
      "\n",
      "\n",
      "\n",
      "\n",
      "\n",
      "\n",
      "\n",
      "\n",
      "\n",
      "\n",
      "\n",
      "\n",
      "\n",
      "\n",
      "\n",
      "\n",
      "\n",
      "\n",
      "\n",
      "\n",
      "\n",
      "\n",
      "\n",
      "\n",
      "\n",
      "\n",
      "\n",
      "Open menu\n",
      "\n",
      "\n",
      "\n",
      "\n",
      "\n",
      "\n",
      "\n",
      "\n",
      "\n",
      "\n",
      "                    Home\n",
      "                \n",
      "\n",
      "\n",
      "\n",
      "                        About\n",
      "                    \n",
      "\n",
      "\n",
      "                        Blog\n",
      "                    \n",
      "\n",
      "\n",
      "\n",
      "\n",
      "\n",
      "February 26, 2024\n",
      "The Tech Stack that Works for My (AI) Startups\n",
      "\n",
      "\n",
      "\n",
      "startup\n",
      "\n",
      "\n",
      "tech\n",
      "\n",
      "\n",
      "entrepreneurship\n",
      "\n",
      "\n",
      "\n",
      "Last updated in Feb. 2024\n",
      "In this post, I list the tech stack and related services tha\n"
     ]
    }
   ],
   "source": [
    "from langchain.document_loaders import WebBaseLoader\n",
    "\n",
    "loader = WebBaseLoader(\"https://harrywang.me/stack\")\n",
    "docs = loader.load()\n",
    "print(docs[0].page_content[:500])"
   ]
  },
  {
   "cell_type": "markdown",
   "metadata": {},
   "source": [
    "# Document Splitter\n"
   ]
  },
  {
   "cell_type": "code",
   "execution_count": 14,
   "metadata": {},
   "outputs": [],
   "source": [
    "from langchain.text_splitter import RecursiveCharacterTextSplitter, CharacterTextSplitter"
   ]
  },
  {
   "cell_type": "code",
   "execution_count": 15,
   "metadata": {},
   "outputs": [],
   "source": [
    "chunk_size =26\n",
    "chunk_overlap = 3"
   ]
  },
  {
   "cell_type": "code",
   "execution_count": 16,
   "metadata": {},
   "outputs": [],
   "source": [
    "r_splitter = RecursiveCharacterTextSplitter(\n",
    "    chunk_size=chunk_size,\n",
    "    chunk_overlap=chunk_overlap\n",
    ")\n",
    "c_splitter = CharacterTextSplitter(\n",
    "    chunk_size=chunk_size,\n",
    "    chunk_overlap=chunk_overlap\n",
    ")"
   ]
  },
  {
   "cell_type": "code",
   "execution_count": 17,
   "metadata": {},
   "outputs": [
    {
     "data": {
      "text/plain": [
       "['abcdefghijklmnopqrstuvwxyz']"
      ]
     },
     "execution_count": 17,
     "metadata": {},
     "output_type": "execute_result"
    }
   ],
   "source": [
    "text1 = 'abcdefghijklmnopqrstuvwxyz'\n",
    "r_splitter.split_text(text1)"
   ]
  },
  {
   "cell_type": "code",
   "execution_count": 18,
   "metadata": {},
   "outputs": [
    {
     "data": {
      "text/plain": [
       "['abcdefghijklmnopqrstuvwxyz', 'xyzabcdefghijklmnopqrstuvw', 'uvwxyz']"
      ]
     },
     "execution_count": 18,
     "metadata": {},
     "output_type": "execute_result"
    }
   ],
   "source": [
    "text2 = 'abcdefghijklmnopqrstuvwxyzabcdefghijklmnopqrstuvwxyz'\n",
    "r_splitter.split_text(text2)"
   ]
  },
  {
   "cell_type": "code",
   "execution_count": 36,
   "metadata": {},
   "outputs": [
    {
     "data": {
      "text/plain": [
       "['a b c d e f g h i j k l m', 'm n o p q r s t u v w x y', 'y z']"
      ]
     },
     "execution_count": 36,
     "metadata": {},
     "output_type": "execute_result"
    }
   ],
   "source": [
    "text3 = \"a b c d e f g h i j k l m n o p q r s t u v w x y z\"\n",
    "r_splitter.split_text(text3)"
   ]
  },
  {
   "cell_type": "code",
   "execution_count": 37,
   "metadata": {},
   "outputs": [
    {
     "data": {
      "text/plain": [
       "['a b c d e f g h i j k l m n o p q r s t u v w x y z']"
      ]
     },
     "execution_count": 37,
     "metadata": {},
     "output_type": "execute_result"
    }
   ],
   "source": [
    "c_splitter.split_text(text3)"
   ]
  },
  {
   "cell_type": "code",
   "execution_count": 40,
   "metadata": {},
   "outputs": [
    {
     "data": {
      "text/plain": [
       "['a b c d e f g h i j k l m', 'l m n o p q r s t u v w x', 'w x y z']"
      ]
     },
     "execution_count": 40,
     "metadata": {},
     "output_type": "execute_result"
    }
   ],
   "source": [
    "c_splitter = CharacterTextSplitter(\n",
    "    chunk_size=chunk_size,\n",
    "    chunk_overlap=chunk_overlap,\n",
    "    separator = ' '\n",
    ")\n",
    "c_splitter.split_text(text3)"
   ]
  },
  {
   "cell_type": "code",
   "execution_count": 39,
   "metadata": {},
   "outputs": [],
   "source": [
    "some_text = \"\"\"When writing documents, writers will use document structure to group content. \\\n",
    "This can convey to the reader, which idea's are related. For example, closely related ideas \\\n",
    "are in sentances. Similar ideas are in paragraphs. Paragraphs form a document. \\n\\n  \\\n",
    "Paragraphs are often delimited with a carriage return or two carriage returns. \\\n",
    "Carriage returns are the \"backslash n\" you see embedded in this string. \\\n",
    "Sentences have a period at the end, but also, have a space.\\\n",
    "and words are separated by space.\"\"\""
   ]
  },
  {
   "cell_type": "code",
   "execution_count": 42,
   "metadata": {},
   "outputs": [
    {
     "data": {
      "text/plain": [
       "496"
      ]
     },
     "execution_count": 42,
     "metadata": {},
     "output_type": "execute_result"
    }
   ],
   "source": [
    "len(some_text)"
   ]
  },
  {
   "cell_type": "code",
   "execution_count": 41,
   "metadata": {},
   "outputs": [],
   "source": [
    "c_splitter = CharacterTextSplitter(\n",
    "    chunk_size=450,\n",
    "    chunk_overlap=0,\n",
    "    separator = ' '\n",
    ")\n",
    "r_splitter = RecursiveCharacterTextSplitter(\n",
    "    chunk_size=450,\n",
    "    chunk_overlap=0, \n",
    "    separators=[\"\\n\\n\", \"\\n\", \" \", \"\"]\n",
    ")"
   ]
  },
  {
   "cell_type": "code",
   "execution_count": 43,
   "metadata": {},
   "outputs": [
    {
     "data": {
      "text/plain": [
       "['When writing documents, writers will use document structure to group content. This can convey to the reader, which idea\\'s are related. For example, closely related ideas are in sentances. Similar ideas are in paragraphs. Paragraphs form a document. \\n\\n Paragraphs are often delimited with a carriage return or two carriage returns. Carriage returns are the \"backslash n\" you see embedded in this string. Sentences have a period at the end, but also,',\n",
       " 'have a space.and words are separated by space.']"
      ]
     },
     "execution_count": 43,
     "metadata": {},
     "output_type": "execute_result"
    }
   ],
   "source": [
    "c_splitter.split_text(some_text)"
   ]
  },
  {
   "cell_type": "code",
   "execution_count": 44,
   "metadata": {},
   "outputs": [
    {
     "data": {
      "text/plain": [
       "[\"When writing documents, writers will use document structure to group content. This can convey to the reader, which idea's are related. For example, closely related ideas are in sentances. Similar ideas are in paragraphs. Paragraphs form a document.\",\n",
       " 'Paragraphs are often delimited with a carriage return or two carriage returns. Carriage returns are the \"backslash n\" you see embedded in this string. Sentences have a period at the end, but also, have a space.and words are separated by space.']"
      ]
     },
     "execution_count": 44,
     "metadata": {},
     "output_type": "execute_result"
    }
   ],
   "source": [
    "r_splitter.split_text(some_text)"
   ]
  },
  {
   "cell_type": "code",
   "execution_count": 45,
   "metadata": {},
   "outputs": [
    {
     "data": {
      "text/plain": [
       "[\"When writing documents, writers will use document structure to group content. This can convey to the reader, which idea's are related. For example,\",\n",
       " 'closely related ideas are in sentances. Similar ideas are in paragraphs. Paragraphs form a document.',\n",
       " 'Paragraphs are often delimited with a carriage return or two carriage returns. Carriage returns are the \"backslash n\" you see embedded in this',\n",
       " 'string. Sentences have a period at the end, but also, have a space.and words are separated by space.']"
      ]
     },
     "execution_count": 45,
     "metadata": {},
     "output_type": "execute_result"
    }
   ],
   "source": [
    "#Let's reduce the chunk size a bit and add a period to our separators:\n",
    "r_splitter = RecursiveCharacterTextSplitter(\n",
    "    chunk_size=150,\n",
    "    chunk_overlap=0,\n",
    "    separators=[\"\\n\\n\", \"\\n\", \"\\. \", \" \", \"\"]\n",
    ")\n",
    "r_splitter.split_text(some_text)"
   ]
  },
  {
   "cell_type": "code",
   "execution_count": 46,
   "metadata": {},
   "outputs": [
    {
     "data": {
      "text/plain": [
       "[\"When writing documents, writers will use document structure to group content. This can convey to the reader, which idea's are related. For example,\",\n",
       " 'closely related ideas are in sentances. Similar ideas are in paragraphs. Paragraphs form a document.',\n",
       " 'Paragraphs are often delimited with a carriage return or two carriage returns. Carriage returns are the \"backslash n\" you see embedded in this',\n",
       " 'string. Sentences have a period at the end, but also, have a space.and words are separated by space.']"
      ]
     },
     "execution_count": 46,
     "metadata": {},
     "output_type": "execute_result"
    }
   ],
   "source": [
    "r_splitter = RecursiveCharacterTextSplitter(\n",
    "    chunk_size=150,\n",
    "    chunk_overlap=0,\n",
    "    separators=[\"\\n\\n\", \"\\n\", \"(?<=\\. )\", \" \", \"\"]\n",
    ")\n",
    "r_splitter.split_text(some_text)"
   ]
  },
  {
   "cell_type": "code",
   "execution_count": 47,
   "metadata": {},
   "outputs": [],
   "source": [
    "from langchain.document_loaders import PyPDFLoader\n",
    "loader = PyPDFLoader(\"data/nba-rules-2023.pdf\")\n",
    "pages = loader.load()"
   ]
  },
  {
   "cell_type": "code",
   "execution_count": 48,
   "metadata": {},
   "outputs": [],
   "source": [
    "from langchain.text_splitter import CharacterTextSplitter\n",
    "text_splitter = CharacterTextSplitter(\n",
    "    separator=\"\\n\",\n",
    "    chunk_size=1000,\n",
    "    chunk_overlap=150,\n",
    "    length_function=len\n",
    ")\n",
    "docs = text_splitter.split_documents(pages)"
   ]
  },
  {
   "cell_type": "code",
   "execution_count": 49,
   "metadata": {},
   "outputs": [
    {
     "data": {
      "text/plain": [
       "(276, 74)"
      ]
     },
     "execution_count": 49,
     "metadata": {},
     "output_type": "execute_result"
    }
   ],
   "source": [
    "len(docs), len(pages)"
   ]
  },
  {
   "cell_type": "markdown",
   "metadata": {},
   "source": [
    "## Token splitting\n",
    "\n",
    "We can also split on token count explicity, if we want.\n",
    "\n",
    "This can be useful because LLMs often have context windows designated in tokens.\n",
    "\n",
    "Tokens are often ~4 characters.\n"
   ]
  },
  {
   "cell_type": "code",
   "execution_count": 51,
   "metadata": {},
   "outputs": [
    {
     "data": {
      "text/plain": [
       "['foo', ' bar', ' b', 'az', 'zy', 'foo']"
      ]
     },
     "execution_count": 51,
     "metadata": {},
     "output_type": "execute_result"
    }
   ],
   "source": [
    "from langchain.text_splitter import TokenTextSplitter\n",
    "text_splitter = TokenTextSplitter(chunk_size=1, chunk_overlap=0)\n",
    "\n",
    "text1 = \"foo bar bazzyfoo\"\n",
    "text_splitter.split_text(text1)"
   ]
  },
  {
   "cell_type": "code",
   "execution_count": 54,
   "metadata": {},
   "outputs": [
    {
     "name": "stdout",
     "output_type": "stream",
     "text": [
      "page_content='This Page Intentionally Left Blank  \\n' metadata={'source': 'data/nba-rules-2023.pdf', 'page': 0} {'source': 'data/nba-rules-2023.pdf', 'page': 0}\n"
     ]
    }
   ],
   "source": [
    "text_splitter = TokenTextSplitter(chunk_size=10, chunk_overlap=0)\n",
    "docs = text_splitter.split_documents(pages)\n",
    "print(docs[0], pages[0].metadata)"
   ]
  },
  {
   "cell_type": "code",
   "execution_count": 72,
   "metadata": {},
   "outputs": [
    {
     "data": {
      "text/plain": [
       "386"
      ]
     },
     "execution_count": 72,
     "metadata": {},
     "output_type": "execute_result"
    }
   ],
   "source": []
  },
  {
   "cell_type": "code",
   "execution_count": 76,
   "metadata": {},
   "outputs": [],
   "source": [
    "# embeddings\n",
    "# https://platform.openai.com/docs/guides/embeddings/what-are-embeddings\n",
    "# By default, the length of the embedding vector will be 1536 for text-embedding-3-small or \n",
    "# 3072 for text-embedding-3-large. \n",
    "# text-embedding-3-small\t$0.02 / 1M tokens\n",
    "# text-embedding-3-large\t$0.13 / 1M tokens\n",
    "\n",
    "from langchain_openai import OpenAIEmbeddings\n",
    "embedding = OpenAIEmbeddings(model=\"text-embedding-3-small\")"
   ]
  },
  {
   "cell_type": "code",
   "execution_count": 80,
   "metadata": {},
   "outputs": [],
   "source": [
    "sentence1 = \"i like dogs\"\n",
    "sentence2 = \"i like cats\"\n",
    "sentence3 = \"the weather is sweet outside\""
   ]
  },
  {
   "cell_type": "code",
   "execution_count": 81,
   "metadata": {},
   "outputs": [],
   "source": [
    "embedding1 = embedding.embed_query(sentence1)\n",
    "embedding2 = embedding.embed_query(sentence2)\n",
    "embedding3 = embedding.embed_query(sentence3)"
   ]
  },
  {
   "cell_type": "code",
   "execution_count": 82,
   "metadata": {},
   "outputs": [
    {
     "data": {
      "text/plain": [
       "(0.7222818700424505, 0.2677958372908107, 0.2573165872157418)"
      ]
     },
     "execution_count": 82,
     "metadata": {},
     "output_type": "execute_result"
    }
   ],
   "source": [
    "import numpy as np\n",
    "np.dot(embedding1, embedding2), np.dot(embedding1, embedding3), np.dot(embedding2, embedding3)"
   ]
  },
  {
   "cell_type": "code",
   "execution_count": 93,
   "metadata": {},
   "outputs": [],
   "source": [
    "!rm -rf ./data/chroma  # remove old database files if any"
   ]
  },
  {
   "cell_type": "code",
   "execution_count": 98,
   "metadata": {},
   "outputs": [],
   "source": [
    "from langchain.vectorstores import Chroma\n",
    "persist_directory = './data/chroma/'"
   ]
  },
  {
   "cell_type": "code",
   "execution_count": 95,
   "metadata": {},
   "outputs": [
    {
     "data": {
      "text/plain": [
       "386"
      ]
     },
     "execution_count": 95,
     "metadata": {},
     "output_type": "execute_result"
    }
   ],
   "source": [
    "from langchain.document_loaders import PyPDFLoader\n",
    "\n",
    "# Load PDF\n",
    "loaders = [\n",
    "    PyPDFLoader(\"data/getting-real/getting-real-01-introduction.pdf\"),\n",
    "    PyPDFLoader(\"data/getting-real/getting-real-02-starting-line.pdf\"),\n",
    "    PyPDFLoader(\"data/getting-real/getting-real-03-stay-lean.pdf\"),  # Duplicate documents on purpose\n",
    "    PyPDFLoader(\"data/getting-real/getting-real-03-stay-lean.pdf\"),  # Duplicate documents on purpose\n",
    "    PyPDFLoader(\"data/getting-real/getting-real-04-priorities.pdf\"), \n",
    "    PyPDFLoader(\"data/getting-real/getting-real-05-feature-selection.pdf\"), \n",
    "]\n",
    "docs = []\n",
    "for loader in loaders:\n",
    "    docs.extend(loader.load())\n",
    "\n",
    "# Split\n",
    "from langchain.text_splitter import RecursiveCharacterTextSplitter\n",
    "text_splitter = RecursiveCharacterTextSplitter(\n",
    "    chunk_size = 1500,\n",
    "    chunk_overlap = 150\n",
    ")\n",
    "\n",
    "splits = text_splitter.split_documents(docs)\n",
    "\n",
    "len(splits)"
   ]
  },
  {
   "cell_type": "code",
   "execution_count": 99,
   "metadata": {},
   "outputs": [],
   "source": [
    "vectordb = Chroma.from_documents(\n",
    "    documents=splits,\n",
    "    embedding=embedding,\n",
    "    persist_directory=persist_directory\n",
    ")"
   ]
  },
  {
   "cell_type": "code",
   "execution_count": 100,
   "metadata": {},
   "outputs": [
    {
     "name": "stdout",
     "output_type": "stream",
     "text": [
      "386\n"
     ]
    }
   ],
   "source": [
    "print(vectordb._collection.count())"
   ]
  },
  {
   "cell_type": "code",
   "execution_count": 101,
   "metadata": {},
   "outputs": [
    {
     "data": {
      "text/plain": [
       "3"
      ]
     },
     "execution_count": 101,
     "metadata": {},
     "output_type": "execute_result"
    }
   ],
   "source": [
    "question = \"what's a foul in basketball?\"\n",
    "docs = vectordb.similarity_search(question, k=3)\n",
    "len(docs)"
   ]
  },
  {
   "cell_type": "markdown",
   "metadata": {},
   "source": [
    "duplicate chunks (because of the duplicate pdfs in the index).\n",
    "\n",
    "Semantic search fetches all similar documents, but does not enforce diversity.\n",
    "\n",
    "`docs[0]` and `docs[1]` are indentical."
   ]
  },
  {
   "cell_type": "code",
   "execution_count": 103,
   "metadata": {},
   "outputs": [
    {
     "data": {
      "text/plain": [
       "'- 18 -(2) Puts a hand under the ball and brings it to a pause;\\n(3) Otherwise gains enough control of the ball to hold it, change hands, pass, shoot, or \\nthe player cradles the ball against his body.\\nSection IV—Fouls\\na. A common personal foul is illegal physical contact which occurs with an opponent  \\nafter the ball has become live and before the horn sounds to end the period. If time expires before \\nthe personal foul occurs, the personal foul should be disregarded, unless it was unsportsmanlike.\\nEXCEPTION: If the foul is committed on or by a player in the act of shooting, and the  \\nshooter released the ball prior to the expiration of time on the game clock, then the foul  \\nshould be administered in the same manner as with any similar play during the course of the  \\ngame (See Rule 13, Section II(b)(ii)).\\nb. A technical foul is the penalty for unsportsmanlike conduct or violations by team  \\nmembers\\ton\\tthe\\tfloor\\tor\\tseated\\ton\\tthe\\tbench.\\nc. A double foul is a situation in which any two opponents commit personal fouls at  \\napproximately the same time.\\nd. An\\toffensive\\tfoul\\tis\\tillegal\\tcontact,\\tcommitted \\tby\\tan\\toffensive\\tplayer,\\tafter\\tthe\\tball \\nis live and there is team control.\\ne. A loose ball foul is illegal contact, after the ball is alive, when team control does \\nnot exist.\\nf. A\\tflagrant\\tfoul\\tis\\tunnecessary \\tand/or\\texcessive \\tcontact\\tcommitted \\tby\\ta\\tplayer\\tagainst  \\nan opponent whether the ball is dead or alive.'"
      ]
     },
     "execution_count": 103,
     "metadata": {},
     "output_type": "execute_result"
    }
   ],
   "source": [
    "docs[0].page_content"
   ]
  },
  {
   "cell_type": "code",
   "execution_count": 104,
   "metadata": {},
   "outputs": [
    {
     "data": {
      "text/plain": [
       "'- 18 -(2) Puts a hand under the ball and brings it to a pause;\\n(3) Otherwise gains enough control of the ball to hold it, change hands, pass, shoot, or \\nthe player cradles the ball against his body.\\nSection IV—Fouls\\na. A common personal foul is illegal physical contact which occurs with an opponent  \\nafter the ball has become live and before the horn sounds to end the period. If time expires before \\nthe personal foul occurs, the personal foul should be disregarded, unless it was unsportsmanlike.\\nEXCEPTION: If the foul is committed on or by a player in the act of shooting, and the  \\nshooter released the ball prior to the expiration of time on the game clock, then the foul  \\nshould be administered in the same manner as with any similar play during the course of the  \\ngame (See Rule 13, Section II(b)(ii)).\\nb. A technical foul is the penalty for unsportsmanlike conduct or violations by team  \\nmembers\\ton\\tthe\\tfloor\\tor\\tseated\\ton\\tthe\\tbench.\\nc. A double foul is a situation in which any two opponents commit personal fouls at  \\napproximately the same time.\\nd. An\\toffensive\\tfoul\\tis\\tillegal\\tcontact,\\tcommitted \\tby\\tan\\toffensive\\tplayer,\\tafter\\tthe\\tball \\nis live and there is team control.\\ne. A loose ball foul is illegal contact, after the ball is alive, when team control does \\nnot exist.\\nf. A\\tflagrant\\tfoul\\tis\\tunnecessary \\tand/or\\texcessive \\tcontact\\tcommitted \\tby\\ta\\tplayer\\tagainst  \\nan opponent whether the ball is dead or alive.'"
      ]
     },
     "execution_count": 104,
     "metadata": {},
     "output_type": "execute_result"
    }
   ],
   "source": [
    "docs[1].page_content"
   ]
  },
  {
   "cell_type": "code",
   "execution_count": 106,
   "metadata": {},
   "outputs": [
    {
     "data": {
      "text/plain": [
       "'If a previous unsportsmanlike act has been committed and if this situation is BLA T ANT , \\na technical foul must be assessed and the guilty player(s) must be ejected.\\nQ. FLAGRANT FOUL CRITERIA\\n1. The severity of the contact;\\n2. Whether or not the player was making a legitimate basketball play (e.g., whether  \\na\\tplayer\\tis\\tmaking\\ta\\tlegitimate\\t effort\\tto\\tblock\\ta\\tshot;\\tnote,\\thowever,\\t that\\ta\\tfoul \\ncommitted\\t during\\ta\\tblock\\tattempt\\tcan\\tstill\\tbe\\tconsidered\\t flagrant\\tif\\tother\\tcriteria  are \\npresent, such as recklessness and hard contact to the head);\\n3. Whether, on a foul committed with a player’s arm or hand, the fouling player  \\nwound up and/or followed through after making contact;\\n4. The potential for injury resulting from contact (e.g., a blow to the head and a  \\nfoul committed while a player is in a vulnerable position);\\n5. The\\tseverity\\tof\\tany\\tinjury\\tsuffered\\tby\\tthe\\toffended\\tplayer;\\tand\\n6. The outcome of the contact (e.g., whether it led to an altercation).'"
      ]
     },
     "execution_count": 106,
     "metadata": {},
     "output_type": "execute_result"
    }
   ],
   "source": [
    "docs[2].page_content"
   ]
  },
  {
   "cell_type": "code",
   "execution_count": 70,
   "metadata": {},
   "outputs": [],
   "source": [
    "# Let's save this so we can use it later!\n",
    "vectordb.persist()"
   ]
  },
  {
   "cell_type": "code",
   "execution_count": null,
   "metadata": {},
   "outputs": [],
   "source": []
  },
  {
   "cell_type": "markdown",
   "metadata": {},
   "source": [
    "We can see a new failure mode.\n",
    "\n",
    "The question below asks a question about the third lecture, but includes results from other lectures as well."
   ]
  },
  {
   "cell_type": "code",
   "execution_count": 107,
   "metadata": {},
   "outputs": [
    {
     "name": "stdout",
     "output_type": "stream",
     "text": [
      "{'page': 35, 'source': 'data/nba-rules-2023.pdf'}\n",
      "{'page': 35, 'source': 'data/nba-rules-2023.pdf'}\n",
      "{'page': 42, 'source': 'data/nba-rules-2023.pdf'}\n",
      "{'page': 42, 'source': 'data/nba-rules-2023.pdf'}\n",
      "{'page': 56, 'source': 'data/nba-rules-2023.pdf'}\n"
     ]
    }
   ],
   "source": [
    "question = \"what did they say about regression in the third lecture?\"\n",
    "docs = vectordb.similarity_search(question, k=5)\n",
    "for doc in docs:\n",
    "    print(doc.metadata)\n"
   ]
  },
  {
   "cell_type": "code",
   "execution_count": 108,
   "metadata": {},
   "outputs": [
    {
     "name": "stdout",
     "output_type": "stream",
     "text": [
      "- 57 -(1) If goaltending or basket interference was ruled prior to the ball touching the rim,  \n",
      "whether the shooter committed a boundary line violation. For purposes of this  review, \n",
      "the\tReplay\tCenter\tOfficial\twill\tlook\tonly\tat\tthe\tposition\tof\tthe\tshooter’s\t feet\tat\tthe\t\n",
      "moment\tthey\tlast\ttouched\tthe\tfloor\timmediately\t prior\tto\t(or,\tif\tapplicable,\t during)\tthe\t\n",
      "release\tof\tthe\tshot\tand\tthe\tflight\tof\tthe\tball.\n",
      "(2) If goaltending or basket interference was ruled prior to the ball touching the rim,  \n",
      "whether an 8-second backcourt violation occurred before the ball left the  shooter’s hand.\n",
      "(3) Whether any unsportsmanlike acts or unnecessary contact occurred.\n",
      "m. If an instant replay review is triggered as described in Section I(a)(13) above, the  \n",
      "Replay\tCenter\tOfficial\tand\tthe\tofficial\twho\tcalled\tthe\tfoul\twill\treview\tthe\tvideo\tto\tdetermine:\n",
      "(1) Whether the shot clock expired before the foul occurred.\n",
      "(2) Whether an 8-second backcourt violation occurred before the player was fouled.\n",
      "(3) Whether any unsportsmanlike acts or unnecessary contact occurred.\n",
      "n. If an instant replay review is triggered as described in Section I(a)(14) above, the \n",
      "Replay\tCenter\tOfficial\twould\treview\tthe\tvideo\tin\taccordance\t with\tRule\t12A,\tSection\tIII.\tThe \n",
      "Replay\tCenter\tOfficial\tand\ton-court\t official(s)\t may\talso\treview\tthe\tvideo\tto\tdetermine  \n",
      "whether any unsportsmanlike acts or unnecessary contact occurred.\n",
      "o. If an instant replay review is triggered as described in Section I(b)(1), the Replay\n"
     ]
    }
   ],
   "source": [
    "print(docs[4].page_content)"
   ]
  },
  {
   "cell_type": "code",
   "execution_count": 1,
   "metadata": {},
   "outputs": [
    {
     "name": "stdout",
     "output_type": "stream",
     "text": [
      "4\n"
     ]
    }
   ],
   "source": [
    "# Chroma in-memory\n",
    "from langchain.vectorstores import Chroma\n",
    "from langchain_openai import OpenAIEmbeddings\n",
    "\n",
    "\n",
    "embedding = OpenAIEmbeddings(model=\"text-embedding-3-small\")\n",
    "\n",
    "persist_directory = './data/chroma/'\n",
    "\n",
    "vectordb = Chroma(\n",
    "    persist_directory=persist_directory,\n",
    "    embedding_function=embedding\n",
    ")\n",
    "\n",
    "texts = [\n",
    "    \"\"\"Michael Porter's five-force strategic analysis model, introduced in a 1979 article published in the Harvard Business Review, remains a fundamental tool for strategic analysts plotting the competitive landscape of an industry\"\"\",\n",
    "    \"\"\"Michael Porter's five-force strategic analysis model, introduced in a 1979 article published in the Harvard Business Review, remains a fundamental tool for strategic analysts plotting the competitive landscape of an industry\"\"\",\n",
    "    \"\"\"Five Forces include: Competitive Rivalry, Supplier Power, Buyer Power, Threat of Substitution, and Threat of New Entry.\"\"\",\n",
    "    \"\"\"The Four C Model of Creativity categorizes creative expression into four levels: mini-c (personal creative learning), little-c (creativity appreciated by others), Pro-c (professional-level creativity), and Big-C (historically significant creativity). This model emphasizes creativity as a lifelong process, important at all stages of personal and professional development.\"\"\",\n",
    "]\n",
    "\n",
    "smalldb = Chroma.from_texts(texts, embedding=embedding)\n",
    "\n",
    "print(smalldb._collection.count())  # 0 nothing loaded yet\n"
   ]
  },
  {
   "cell_type": "code",
   "execution_count": 3,
   "metadata": {},
   "outputs": [
    {
     "data": {
      "text/plain": [
       "[Document(page_content=\"Michael Porter's five-force strategic analysis model, introduced in a 1979 article published in the Harvard Business Review, remains a fundamental tool for strategic analysts plotting the competitive landscape of an industry\"),\n",
       " Document(page_content=\"Michael Porter's five-force strategic analysis model, introduced in a 1979 article published in the Harvard Business Review, remains a fundamental tool for strategic analysts plotting the competitive landscape of an industry\"),\n",
       " Document(page_content='Five Forces include: Competitive Rivalry, Supplier Power, Buyer Power, Threat of Substitution, and Threat of New Entry.')]"
      ]
     },
     "execution_count": 3,
     "metadata": {},
     "output_type": "execute_result"
    }
   ],
   "source": [
    "question = \"Tell me about porter's five forces model\"\n",
    "\n",
    "smalldb.similarity_search(question, k=3)"
   ]
  },
  {
   "cell_type": "markdown",
   "metadata": {},
   "source": [
    "### Addressing Diversity: Maximum marginal relevance"
   ]
  },
  {
   "cell_type": "code",
   "execution_count": 8,
   "metadata": {},
   "outputs": [
    {
     "data": {
      "text/plain": [
       "[Document(page_content=\"Michael Porter's five-force strategic analysis model, introduced in a 1979 article published in the Harvard Business Review, remains a fundamental tool for strategic analysts plotting the competitive landscape of an industry\"),\n",
       " Document(page_content='Five Forces include: Competitive Rivalry, Supplier Power, Buyer Power, Threat of Substitution, and Threat of New Entry.'),\n",
       " Document(page_content='The Four C Model of Creativity categorizes creative expression into four levels: mini-c (personal creative learning), little-c (creativity appreciated by others), Pro-c (professional-level creativity), and Big-C (historically significant creativity). This model emphasizes creativity as a lifelong process, important at all stages of personal and professional development.')]"
      ]
     },
     "execution_count": 8,
     "metadata": {},
     "output_type": "execute_result"
    }
   ],
   "source": [
    "# duplicate is gone\n",
    "\n",
    "smalldb.max_marginal_relevance_search(question, k=3, fetch_k=4)"
   ]
  },
  {
   "cell_type": "code",
   "execution_count": 9,
   "metadata": {},
   "outputs": [
    {
     "data": {
      "text/plain": [
       "[Document(page_content='The Four C Model of Creativity categorizes creative expression into four levels: mini-c (personal creative learning), little-c (creativity appreciated by others), Pro-c (professional-level creativity), and Big-C (historically significant creativity). This model emphasizes creativity as a lifelong process, important at all stages of personal and professional development.'),\n",
       " Document(page_content=\"Michael Porter's five-force strategic analysis model, introduced in a 1979 article published in the Harvard Business Review, remains a fundamental tool for strategic analysts plotting the competitive landscape of an industry\")]"
      ]
     },
     "execution_count": 9,
     "metadata": {},
     "output_type": "execute_result"
    }
   ],
   "source": [
    "question = \"Tell me about creativity models\"\n",
    "smalldb.similarity_search(question, k=2)"
   ]
  },
  {
   "cell_type": "code",
   "execution_count": 10,
   "metadata": {},
   "outputs": [
    {
     "data": {
      "text/plain": [
       "[(Document(page_content='The Four C Model of Creativity categorizes creative expression into four levels: mini-c (personal creative learning), little-c (creativity appreciated by others), Pro-c (professional-level creativity), and Big-C (historically significant creativity). This model emphasizes creativity as a lifelong process, important at all stages of personal and professional development.'),\n",
       "  0.6911659240722656),\n",
       " (Document(page_content=\"Michael Porter's five-force strategic analysis model, introduced in a 1979 article published in the Harvard Business Review, remains a fundamental tool for strategic analysts plotting the competitive landscape of an industry\"),\n",
       "  1.3749091625213623)]"
      ]
     },
     "execution_count": 10,
     "metadata": {},
     "output_type": "execute_result"
    }
   ],
   "source": [
    "# cosine distance, short the better\n",
    "smalldb.similarity_search_with_score(question, k=2)"
   ]
  },
  {
   "cell_type": "markdown",
   "metadata": {},
   "source": [
    "### Addressing Specificity: working with metadata\n",
    "\n",
    "In last lecture, we showed that a question about the third lecture can include results from other lectures as well.\n",
    "\n",
    "To address this, many vectorstores support operations on `metadata`.\n",
    "\n",
    "`metadata` provides context for each embedded chunk."
   ]
  },
  {
   "cell_type": "code",
   "execution_count": null,
   "metadata": {},
   "outputs": [],
   "source": []
  }
 ],
 "metadata": {
  "kernelspec": {
   "display_name": "venv",
   "language": "python",
   "name": "python3"
  },
  "language_info": {
   "codemirror_mode": {
    "name": "ipython",
    "version": 3
   },
   "file_extension": ".py",
   "mimetype": "text/x-python",
   "name": "python",
   "nbconvert_exporter": "python",
   "pygments_lexer": "ipython3",
   "version": "3.10.6"
  }
 },
 "nbformat": 4,
 "nbformat_minor": 2
}
