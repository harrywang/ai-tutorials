{
 "cells": [
  {
   "cell_type": "markdown",
   "metadata": {},
   "source": [
    "Create a model\n",
    "\n",
    "You need to create an empty model on Replicate for your trained model. When your training finishes, it will be pushed as a new version to this model.\n",
    "\n",
    "Go to replicate.com/create and create a new model called “llama2-summarizer”.\n",
    "\n",
    "\n",
    "\n"
   ]
  },
  {
   "cell_type": "code",
   "execution_count": 1,
   "metadata": {},
   "outputs": [],
   "source": [
    "import os\n",
    "import openai\n",
    "\n",
    "from dotenv import load_dotenv, find_dotenv\n",
    "_ = load_dotenv(find_dotenv()) # read local .env file\n",
    "\n",
    "REPLICATE_API_TOKEN = os.environ['REPLICATE_API_TOKEN']"
   ]
  },
  {
   "cell_type": "code",
   "execution_count": 14,
   "metadata": {},
   "outputs": [
    {
     "name": "stdout",
     "output_type": "stream",
     "text": [
      "id='7yccgjnem5rgp0cf09mbq3ngmc' model='meta/llama-2-7b' version='77dde5d6c56598691b9008f7d123a18d98f40e4b4978f8a72215ebfc2553ddd8' destination=None status='starting' input={'num_train_epochs': 2, 'train_data': 'samsum-sample.jsonl'} output=None logs='' error=None created_at='2024-04-21T20:46:05.985Z' started_at=None completed_at=None urls={'cancel': 'https://api.replicate.com/v1/predictions/7yccgjnem5rgp0cf09mbq3ngmc/cancel', 'get': 'https://api.replicate.com/v1/predictions/7yccgjnem5rgp0cf09mbq3ngmc'}\n"
     ]
    }
   ],
   "source": [
    "import replicate\n",
    "\n",
    "training = replicate.trainings.create(\n",
    "  version=\"meta/llama-2-7b:77dde5d6c56598691b9008f7d123a18d98f40e4b4978f8a72215ebfc2553ddd8\",  # find from https://replicate.com/meta/llama-2-7b/train\n",
    "  input={\n",
    "    \"train_data\": \"https://gist.github.com/harrywang/4c32f875e40f5d79480cd7b40cee47cc\",  # this has to be a link to a file\n",
    "    \"num_train_epochs\": 2,\n",
    "  },\n",
    "  destination=\"datamonet/llama2-summarizer\"\n",
    ")\n",
    "\n",
    "print(training)\n",
    "\n",
    "# check https://replicate.com/trainings"
   ]
  },
  {
   "cell_type": "markdown",
   "metadata": {},
   "source": [
    "# Data\n",
    "\n",
    "If you’re building an instruction-tuned model like a chat bot that answers questions, structure your data using an object with a prompt key and a completion key on each line:\n",
    "\n",
    "```\n",
    "{\"prompt\": \"...\", \"completion\": \"...\"}\n",
    "{\"prompt\": \"Why don't scientists trust atoms?\", \"completion\": \"Because they make up everything!\"}\n",
    "{\"prompt\": \"Why did the scarecrow win an award?\", \"completion\": \"Because he was outstanding in his field!\"}\n",
    "{\"prompt\": \"What do you call fake spaghetti?\", \"completion\": \"An impasta!\"}\n",
    "```\n",
    "\n",
    "If you’re building an autocompleting model to do tasks like completing a user’s writing, code completion, finishing lists, few-shotting specific tasks like classification, or if you want more control over the format of your training data, structure each JSON line as a single object with a text key and a string value:\n",
    "\n",
    "```\n",
    "{\"text\": \"...\"}\n",
    "{\"text\": \"...\"}\n",
    "{\"text\": \"...\"}\n",
    "```\n",
    "\n",
    "\n",
    "Summarization: https://huggingface.co/datasets/samsum\n",
    "\n",
    "- Full: 14732\n",
    "- Sample: 100\n",
    "\n",
    "Each data point:\n",
    "\n",
    "```\n",
    "{\"text\":\"[INST] <<SYS>>\\nUse the Input to provide a summary of a conversation.\\n<<\\/SYS>>\\n\\nInput:\\nAmanda: I baked  cookies. Do you want some?\\r\\nJerry: Sure!\\r\\nAmanda: I'll bring you tomorrow :-) [\\/INST]\\n\\nSummary: Amanda baked cookies and will bring Jerry some tomorrow.\"}\n",
    "```\n",
    "\n",
    "After formatting (manually):\n",
    "\n",
    "```\n",
    "[INST]\n",
    "    <<SYS>>\n",
    "    Use the Input to provide a summary of a conversation.\n",
    "    <</SYS>>\n",
    "\n",
    "    Input:\n",
    "    Amanda: I baked  cookies. Do you want some?\n",
    "    Jerry: Sure!\n",
    "    Amanda: I'll bring you tomorrow :-)\n",
    "[/INST]\n",
    "\n",
    "Summary: Amanda baked cookies and will bring Jerry some tomorrow.\n",
    "\n",
    "```\n",
    "\n"
   ]
  },
  {
   "cell_type": "code",
   "execution_count": 18,
   "metadata": {},
   "outputs": [
    {
     "name": "stdout",
     "output_type": "stream",
     "text": [
      "failed\n"
     ]
    }
   ],
   "source": [
    "# If you've got a handle to the object returned by create()\n",
    "training.reload()\n",
    "\n",
    "# If you've got the training ID\n",
    "training = replicate.trainings.get(\"7yccgjnem5rgp0cf09mbq3ngmc\")\n",
    "\n",
    "print(training.status)\n",
    "if training.status == \"succeeded\":\n",
    "    print(training.output)\n",
    "    # {\"weights\": \"...\", \"version\": \"...\"}"
   ]
  },
  {
   "cell_type": "code",
   "execution_count": null,
   "metadata": {},
   "outputs": [],
   "source": []
  }
 ],
 "metadata": {
  "kernelspec": {
   "display_name": "venv",
   "language": "python",
   "name": "python3"
  },
  "language_info": {
   "codemirror_mode": {
    "name": "ipython",
    "version": 3
   },
   "file_extension": ".py",
   "mimetype": "text/x-python",
   "name": "python",
   "nbconvert_exporter": "python",
   "pygments_lexer": "ipython3",
   "version": "3.10.6"
  }
 },
 "nbformat": 4,
 "nbformat_minor": 2
}
