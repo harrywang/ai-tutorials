{
  "cells": [
    {
      "cell_type": "markdown",
      "id": "1a4596ea-a631-416d-a2a4-3577c140493d",
      "metadata": {
        "id": "1a4596ea-a631-416d-a2a4-3577c140493d",
        "tags": []
      },
      "source": [
        "# LangSmith Walkthrough\n",
        "\n",
        "LangChain makes it easy to prototype LLM applications and Agents. However, delivering LLM applications to production can be deceptively difficult. You will have to iterate on your prompts, chains, and other components to build a high-quality product.\n",
        "\n",
        "LangSmith makes it easy to debug, test, and continuously improve your LLM applications.\n",
        "\n",
        "When might this come in handy? You may find it useful when you want to:\n",
        "\n",
        "- Quickly debug a new chain, agent, or set of tools\n",
        "- Create and manage datasets for fine-tuning, few-shot prompting, and evaluation\n",
        "- Run regression tests on your application to confidently develop\n",
        "- Capture production analytics for product insights and continuous improvements"
      ]
    },
    {
      "cell_type": "markdown",
      "id": "138fbb8f-960d-4d26-9dd5-6d6acab3ee55",
      "metadata": {
        "id": "138fbb8f-960d-4d26-9dd5-6d6acab3ee55"
      },
      "source": [
        "## Prerequisites\n",
        "\n",
        "**[Create a LangSmith account](https://smith.langchain.com/) and create an API key (see bottom left corner). Familiarize yourself with the platform by looking through the [docs](https://docs.smith.langchain.com/)**\n",
        "\n",
        "Note LangSmith is in closed beta; we're in the process of rolling it out to more users. However, you can fill out the form on the website for expedited access.\n",
        "\n",
        "Now, let's get started!"
      ]
    },
    {
      "cell_type": "markdown",
      "id": "2d77d064-41b4-41fb-82e6-2d16461269ec",
      "metadata": {
        "id": "2d77d064-41b4-41fb-82e6-2d16461269ec",
        "tags": []
      },
      "source": [
        "## Log runs to LangSmith\n",
        "\n",
        "First, configure your environment variables to tell LangChain to log traces. This is done by setting the `LANGCHAIN_TRACING_V2` environment variable to true.\n",
        "You can tell LangChain which project to log to by setting the `LANGCHAIN_PROJECT` environment variable (if this isn't set, runs will be logged to the `default` project). This will automatically create the project for you if it doesn't exist. You must also set the `LANGCHAIN_ENDPOINT` and `LANGCHAIN_API_KEY` environment variables.\n",
        "\n",
        "For more information on other ways to set up tracing, please reference the [LangSmith documentation](https://docs.smith.langchain.com/docs/).\n",
        "\n",
        "**NOTE:** You can also use a context manager in python to log traces using\n",
        "\n",
        "```python\n",
        "from langchain_core.tracers.context import tracing_v2_enabled\n",
        "\n",
        "with tracing_v2_enabled(project_name=\"My Project\"):\n",
        "    agent.run(\"How many people live in canada as of 2023?\")\n",
        "```\n",
        "\n",
        "However, in this example, we will use environment variables."
      ]
    },
    {
      "cell_type": "code",
      "execution_count": 2,
      "id": "904db9a5-f387-4a57-914c-c8af8d39e249",
      "metadata": {
        "id": "904db9a5-f387-4a57-914c-c8af8d39e249",
        "tags": []
      },
      "outputs": [],
      "source": [
        "import os\n",
        "from uuid import uuid4\n",
        "from dotenv import load_dotenv\n",
        "\n",
        "load_dotenv()  # take environment variables from .env.\n",
        "\n",
        "unique_id = uuid4().hex[0:8]\n",
        "os.environ[\"LANGCHAIN_TRACING_V2\"] = \"true\"\n",
        "os.environ[\"LANGCHAIN_PROJECT\"] = f\"Tracing Walkthrough - {unique_id}\"\n",
        "os.environ[\"LANGCHAIN_ENDPOINT\"] = \"https://api.smith.langchain.com\""
      ]
    },
    {
      "cell_type": "markdown",
      "id": "8ee7f34b-b65c-4e09-ad52-e3ace78d0221",
      "metadata": {
        "id": "8ee7f34b-b65c-4e09-ad52-e3ace78d0221",
        "tags": []
      },
      "source": [
        "Create the langsmith client to interact with the API"
      ]
    },
    {
      "cell_type": "code",
      "execution_count": 3,
      "id": "510b5ca0",
      "metadata": {
        "id": "510b5ca0",
        "tags": []
      },
      "outputs": [],
      "source": [
        "from langsmith import Client\n",
        "\n",
        "client = Client()"
      ]
    },
    {
      "cell_type": "markdown",
      "id": "ca27fa11-ddce-4af0-971e-c5c37d5b92ef",
      "metadata": {
        "id": "ca27fa11-ddce-4af0-971e-c5c37d5b92ef"
      },
      "source": [
        "Create a LangChain component and log runs to the platform. In this example, we will create a ReAct-style agent with access to a general search tool (DuckDuckGo). The agent's prompt can be viewed in the [Hub here](https://smith.langchain.com/hub/wfh/langsmith-agent-prompt)."
      ]
    },
    {
      "cell_type": "code",
      "execution_count": 4,
      "id": "a0fbfbba-3c82-4298-a312-9cec016d9d2e",
      "metadata": {
        "id": "a0fbfbba-3c82-4298-a312-9cec016d9d2e"
      },
      "outputs": [],
      "source": [
        "from langchain import hub\n",
        "from langchain.agents import AgentExecutor\n",
        "from langchain.agents.format_scratchpad.openai_tools import (\n",
        "    format_to_openai_tool_messages,\n",
        ")\n",
        "from langchain.agents.output_parsers.openai_tools import OpenAIToolsAgentOutputParser\n",
        "from langchain_community.tools import DuckDuckGoSearchResults\n",
        "from langchain_openai import ChatOpenAI\n",
        "\n",
        "# Fetches the latest version of this prompt\n",
        "prompt = hub.pull(\"wfh/langsmith-agent-prompt:5d466cbc\")\n",
        "\n",
        "llm = ChatOpenAI(\n",
        "    model=\"gpt-3.5-turbo\",\n",
        "    temperature=0,\n",
        ")\n",
        "\n",
        "tools = [\n",
        "    DuckDuckGoSearchResults(\n",
        "        name=\"duck_duck_go\"\n",
        "    ),  # General internet search using DuckDuckGo\n",
        "]\n",
        "\n",
        "llm_with_tools = llm.bind_tools(tools)\n",
        "\n",
        "runnable_agent = (\n",
        "    {\n",
        "        \"input\": lambda x: x[\"input\"],\n",
        "        \"agent_scratchpad\": lambda x: format_to_openai_tool_messages(\n",
        "            x[\"intermediate_steps\"]\n",
        "        ),\n",
        "    }\n",
        "    | prompt\n",
        "    | llm_with_tools\n",
        "    | OpenAIToolsAgentOutputParser()\n",
        ")\n",
        "\n",
        "agent_executor = AgentExecutor(\n",
        "    agent=runnable_agent, tools=tools, handle_parsing_errors=True\n",
        ")"
      ]
    },
    {
      "cell_type": "markdown",
      "id": "cab51e1e-8270-452c-ba22-22b5b5951899",
      "metadata": {
        "id": "cab51e1e-8270-452c-ba22-22b5b5951899"
      },
      "source": [
        "We are running the agent concurrently on multiple inputs to reduce latency. Runs get logged to LangSmith in the background so execution latency is unaffected."
      ]
    },
    {
      "cell_type": "code",
      "execution_count": 5,
      "id": "19537902-b95c-4390-80a4-f6c9a937081e",
      "metadata": {
        "id": "19537902-b95c-4390-80a4-f6c9a937081e",
        "tags": []
      },
      "outputs": [],
      "source": [
        "inputs = [\n",
        "    \"What is LangChain?\",\n",
        "    \"What's LangSmith?\",\n",
        "    \"When was Llama-v2 released?\",\n",
        "    \"What is the langsmith cookbook?\",\n",
        "    \"When did langchain first announce the hub?\",\n",
        "]\n",
        "\n",
        "results = agent_executor.batch([{\"input\": x} for x in inputs], return_exceptions=True)"
      ]
    },
    {
      "cell_type": "code",
      "execution_count": 6,
      "id": "9a6a764c-5d7a-4de7-a916-3ecc987d5bb6",
      "metadata": {
        "id": "9a6a764c-5d7a-4de7-a916-3ecc987d5bb6",
        "outputId": "f0aa7227-c9f3-4e56-df07-670aea7ad3b4"
      },
      "outputs": [
        {
          "data": {
            "text/plain": [
              "[{'input': 'What is LangChain?',\n",
              "  'output': 'LangChain is a model-agnostic, open-source project that helps AI developers integrate large language models with various external data sources. It simplifies the creation of applications using large language models by providing a standard interface for chains, integrations with other tools, and end-to-end chains for common applications. LangChain allows developers to build applications based on combined Large Language Models. You can learn more about LangChain from sources like [Built In](https://builtin.com/articles/langchain), [GeeksforGeeks](https://www.geeksforgeeks.org/introduction-to-langchain/), [PyPI](https://pypi.org/project/langchain/), and [Nanonets](https://nanonets.com/blog/langchain/).'},\n",
              " {'input': \"What's LangSmith?\",\n",
              "  'output': 'LangSmith is a platform that allows you to test and evaluate the capabilities of language models and AI applications. It helps in building chat-based AI environments with LangChain, creating LangSmith clients, and customizing evaluation outputs. If you want to learn more about LangSmith, you can visit the following links:\\n1. [Using LangSmith to test LLMs and AI applications](https://blog.logrocket.com/langsmith-test-llms-ai-applications/)\\n2. [LangSmith Tutorial - LLM Evaluation for Beginners on YouTube](https://www.youtube.com/watch?v=tFXm5ijih98)\\n3. [Open Source AI Software Maker LangChain Launches First Paid - Forbes](https://www.forbes.com/sites/alexkonrad/2024/02/15/open-source-ai-startup-langchain-launches-langsmith/)\\n4. [LangSmith For Beginners - Must know LLM Evaluation Platform on YouTube](https://www.youtube.com/watch?v=FgG-trkAMwU)'}]"
            ]
          },
          "execution_count": 6,
          "metadata": {},
          "output_type": "execute_result"
        }
      ],
      "source": [
        "results[:2]"
      ]
    },
    {
      "cell_type": "markdown",
      "id": "9decb964-be07-4b6c-9802-9825c8be7b64",
      "metadata": {
        "id": "9decb964-be07-4b6c-9802-9825c8be7b64"
      },
      "source": [
        "Assuming you've successfully set up your environment, your agent traces should show up in the `Projects` section in the [app](https://smith.langchain.com/). Congrats!\n",
        "\n",
        "![Initial Runs](https://github.com/langchain-ai/langchain/blob/master/docs/docs/langsmith/img/log_traces.png?raw=1)\n",
        "\n",
        "It looks like the agent isn't effectively using the tools though. Let's evaluate this so we have a baseline."
      ]
    },
    {
      "cell_type": "markdown",
      "id": "6c43c311-4e09-4d57-9ef3-13afb96ff430",
      "metadata": {
        "id": "6c43c311-4e09-4d57-9ef3-13afb96ff430"
      },
      "source": [
        "## Evaluate Agent\n",
        "\n",
        "In addition to logging runs, LangSmith also allows you to test and evaluate your LLM applications.\n",
        "\n",
        "In this section, you will leverage LangSmith to create a benchmark dataset and run AI-assisted evaluators on an agent. You will do so in a few steps:\n",
        "\n",
        "1. Create a dataset\n",
        "2. Initialize a new agent to benchmark\n",
        "3. Configure evaluators to grade an agent's output\n",
        "4. Run the agent over the dataset and evaluate the results"
      ]
    },
    {
      "cell_type": "markdown",
      "id": "beab1a29-b79d-4a99-b5b1-0870c2d772b1",
      "metadata": {
        "id": "beab1a29-b79d-4a99-b5b1-0870c2d772b1"
      },
      "source": [
        "### 1. Create a LangSmith dataset\n",
        "\n",
        "Below, we use the LangSmith client to create a dataset from the input questions from above and a list labels. You will use these later to measure performance for a new agent. A dataset is a collection of examples, which are nothing more than input-output pairs you can use as test cases to your application.\n",
        "\n",
        "For more information on datasets, including how to create them from CSVs or other files or how to create them in the platform, please refer to the [LangSmith documentation](https://docs.smith.langchain.com/)."
      ]
    },
    {
      "cell_type": "code",
      "execution_count": 7,
      "id": "43fd40b2-3f02-4e51-9343-705aafe90a36",
      "metadata": {
        "id": "43fd40b2-3f02-4e51-9343-705aafe90a36"
      },
      "outputs": [],
      "source": [
        "outputs = [\n",
        "    \"LangChain is an open-source framework for building applications using large language models. It is also the name of the company building LangSmith.\",\n",
        "    \"LangSmith is a unified platform for debugging, testing, and monitoring language model applications and agents powered by LangChain\",\n",
        "    \"July 18, 2023\",\n",
        "    \"The langsmith cookbook is a github repository containing detailed examples of how to use LangSmith to debug, evaluate, and monitor large language model-powered applications.\",\n",
        "    \"September 5, 2023\",\n",
        "]"
      ]
    },
    {
      "cell_type": "code",
      "execution_count": 8,
      "id": "17580c4b-bd04-4dde-9d21-9d4edd25b00d",
      "metadata": {
        "id": "17580c4b-bd04-4dde-9d21-9d4edd25b00d",
        "tags": []
      },
      "outputs": [],
      "source": [
        "dataset_name = f\"agent-qa-{unique_id}\"\n",
        "\n",
        "dataset = client.create_dataset(\n",
        "    dataset_name,\n",
        "    description=\"An example dataset of questions over the LangSmith documentation.\",\n",
        ")\n",
        "\n",
        "client.create_examples(\n",
        "    inputs=[{\"input\": query} for query in inputs],\n",
        "    outputs=[{\"output\": answer} for answer in outputs],\n",
        "    dataset_id=dataset.id,\n",
        ")"
      ]
    },
    {
      "cell_type": "markdown",
      "id": "8adfd29c-b258-49e5-94b4-74597a12ba16",
      "metadata": {
        "id": "8adfd29c-b258-49e5-94b4-74597a12ba16",
        "tags": []
      },
      "source": [
        "### 2. Initialize a new agent to benchmark\n",
        "\n",
        "LangSmith lets you evaluate any LLM, chain, agent, or even a custom function. Conversational agents are stateful (they have memory); to ensure that this state isn't shared between dataset runs, we will pass in a `chain_factory` (aka a `constructor`) function to initialize for each call.\n",
        "\n",
        "In this case, we will test an agent that uses OpenAI's function calling endpoints."
      ]
    },
    {
      "cell_type": "code",
      "execution_count": 9,
      "id": "f42d8ecc-d46a-448b-a89c-04b0f6907f75",
      "metadata": {
        "id": "f42d8ecc-d46a-448b-a89c-04b0f6907f75",
        "tags": []
      },
      "outputs": [],
      "source": [
        "from langchain import hub\n",
        "from langchain.agents import AgentExecutor, AgentType, initialize_agent, load_tools\n",
        "from langchain_openai import ChatOpenAI\n",
        "\n",
        "\n",
        "# Since chains can be stateful (e.g. they can have memory), we provide\n",
        "# a way to initialize a new chain for each row in the dataset. This is done\n",
        "# by passing in a factory function that returns a new chain for each row.\n",
        "def create_agent(prompt, llm_with_tools):\n",
        "    runnable_agent = (\n",
        "        {\n",
        "            \"input\": lambda x: x[\"input\"],\n",
        "            \"agent_scratchpad\": lambda x: format_to_openai_tool_messages(\n",
        "                x[\"intermediate_steps\"]\n",
        "            ),\n",
        "        }\n",
        "        | prompt\n",
        "        | llm_with_tools\n",
        "        | OpenAIToolsAgentOutputParser()\n",
        "    )\n",
        "    return AgentExecutor(agent=runnable_agent, tools=tools, handle_parsing_errors=True)"
      ]
    },
    {
      "cell_type": "markdown",
      "id": "9cb9ef53",
      "metadata": {
        "id": "9cb9ef53"
      },
      "source": [
        "### 3. Configure evaluation\n",
        "\n",
        "Manually comparing the results of chains in the UI is effective, but it can be time consuming.\n",
        "It can be helpful to use automated metrics and AI-assisted feedback to evaluate your component's performance.\n",
        "\n",
        "Below, we will create a custom run evaluator that logs a heuristic evaluation.\n",
        "\n",
        "**Heuristic evaluators**"
      ]
    },
    {
      "cell_type": "code",
      "execution_count": 10,
      "id": "331c3c53-949d-405e-8ba5-38bab1ce413b",
      "metadata": {
        "id": "331c3c53-949d-405e-8ba5-38bab1ce413b"
      },
      "outputs": [],
      "source": [
        "from langsmith.evaluation import EvaluationResult\n",
        "from langsmith.schemas import Example, Run\n",
        "\n",
        "\n",
        "def check_not_idk(run: Run, example: Example):\n",
        "    \"\"\"Illustration of a custom evaluator.\"\"\"\n",
        "    agent_response = run.outputs[\"output\"]\n",
        "    if \"don't know\" in agent_response or \"not sure\" in agent_response:\n",
        "        score = 0\n",
        "    else:\n",
        "        score = 1\n",
        "    # You can access the dataset labels in example.outputs[key]\n",
        "    # You can also access the model inputs in run.inputs[key]\n",
        "    return EvaluationResult(\n",
        "        key=\"not_uncertain\",\n",
        "        score=score,\n",
        "    )"
      ]
    },
    {
      "cell_type": "markdown",
      "id": "1cc51d0a-4982-4ff9-89c1-b294d5cce8f6",
      "metadata": {
        "id": "1cc51d0a-4982-4ff9-89c1-b294d5cce8f6"
      },
      "source": [
        "#### Batch Evaluators\n",
        "\n",
        "Some metrics are aggregated over a full \"test\" without being assigned to an individual runs/examples. These could be as simple\n",
        "as common classification metrics like Precision, Recall, or AUC, or it could be another custom aggregate metric.\n",
        "\n",
        "You can define any batch metric on a full test level by defining a function (or any callable) that accepts a list of Runs (system traces) and list of Examples (dataset records)."
      ]
    },
    {
      "cell_type": "code",
      "execution_count": 11,
      "id": "cada62c4-c237-4f85-aa33-789cbcd1e8c1",
      "metadata": {
        "id": "cada62c4-c237-4f85-aa33-789cbcd1e8c1"
      },
      "outputs": [],
      "source": [
        "from typing import List\n",
        "\n",
        "\n",
        "def max_pred_length(runs: List[Run], examples: List[Example]):\n",
        "    predictions = [len(run.outputs[\"output\"]) for run in runs]\n",
        "    return EvaluationResult(key=\"max_pred_length\", score=max(predictions))"
      ]
    },
    {
      "cell_type": "markdown",
      "id": "ad9c4791-570b-4adf-a23f-d025ff383254",
      "metadata": {
        "id": "ad9c4791-570b-4adf-a23f-d025ff383254"
      },
      "source": [
        "Below, we will configure the evaluation with the custom evaluator from above, as well as some pre-implemented run evaluators that do the following:\n",
        "- Compare results against ground truth labels.\n",
        "- Measure semantic (dis)similarity using embedding distance\n",
        "- Evaluate 'aspects' of the agent's response in a reference-free manner using custom criteria\n",
        "\n",
        "For a longer discussion of how to select an appropriate evaluator for your use case and how to create your own\n",
        "custom evaluators, please refer to the [LangSmith documentation](https://docs.smith.langchain.com/)."
      ]
    },
    {
      "cell_type": "code",
      "execution_count": 12,
      "id": "a25dc281",
      "metadata": {
        "id": "a25dc281",
        "tags": []
      },
      "outputs": [],
      "source": [
        "from langchain.evaluation import EvaluatorType\n",
        "from langchain.smith import RunEvalConfig\n",
        "\n",
        "evaluation_config = RunEvalConfig(\n",
        "    # Evaluators can either be an evaluator type (e.g., \"qa\", \"criteria\", \"embedding_distance\", etc.) or a configuration for that evaluator\n",
        "    evaluators=[\n",
        "        check_not_idk,\n",
        "        # Measures whether a QA response is \"Correct\", based on a reference answer\n",
        "        # You can also select via the raw string \"qa\"\n",
        "        EvaluatorType.QA,\n",
        "        # Measure the embedding distance between the output and the reference answer\n",
        "        # Equivalent to: EvalConfig.EmbeddingDistance(embeddings=OpenAIEmbeddings())\n",
        "        EvaluatorType.EMBEDDING_DISTANCE,\n",
        "        # Grade whether the output satisfies the stated criteria.\n",
        "        # You can select a default one such as \"helpfulness\" or provide your own.\n",
        "        RunEvalConfig.LabeledCriteria(\"helpfulness\"),\n",
        "        # The LabeledScoreString evaluator outputs a score on a scale from 1-10.\n",
        "        # You can use default criteria or write our own rubric\n",
        "        RunEvalConfig.LabeledScoreString(\n",
        "            {\n",
        "                \"accuracy\": \"\"\"\n",
        "Score 1: The answer is completely unrelated to the reference.\n",
        "Score 3: The answer has minor relevance but does not align with the reference.\n",
        "Score 5: The answer has moderate relevance but contains inaccuracies.\n",
        "Score 7: The answer aligns with the reference but has minor errors or omissions.\n",
        "Score 10: The answer is completely accurate and aligns perfectly with the reference.\"\"\"\n",
        "            },\n",
        "            normalize_by=10,\n",
        "        ),\n",
        "    ],\n",
        "    batch_evaluators=[max_pred_length],\n",
        ")"
      ]
    },
    {
      "cell_type": "markdown",
      "id": "07885b10",
      "metadata": {
        "id": "07885b10",
        "tags": []
      },
      "source": [
        "### 4. Run the agent and evaluators\n",
        "\n",
        "Use the [run_on_dataset](https://api.python.langchain.com/en/latest/smith/langchain.smith.evaluation.runner_utils.run_on_dataset.html#langchain.smith.evaluation.runner_utils.run_on_dataset) (or asynchronous [arun_on_dataset](https://api.python.langchain.com/en/latest/smith/langchain.smith.evaluation.runner_utils.arun_on_dataset.html#langchain.smith.evaluation.runner_utils.arun_on_dataset)) function to evaluate your model. This will:\n",
        "1. Fetch example rows from the specified dataset.\n",
        "2. Run your agent (or any custom function) on each example.\n",
        "3. Apply evaluators to the resulting run traces and corresponding reference examples to generate automated feedback.\n",
        "\n",
        "The results will be visible in the LangSmith app."
      ]
    },
    {
      "cell_type": "code",
      "execution_count": 13,
      "id": "af8c8469-d70d-46d9-8fcd-517a1ccc7c4b",
      "metadata": {
        "id": "af8c8469-d70d-46d9-8fcd-517a1ccc7c4b"
      },
      "outputs": [],
      "source": [
        "from langchain import hub\n",
        "\n",
        "# We will test this version of the prompt\n",
        "prompt = hub.pull(\"wfh/langsmith-agent-prompt:798e7324\")"
      ]
    },
    {
      "cell_type": "code",
      "execution_count": 14,
      "id": "3733269b-8085-4644-9d5d-baedcff13a2f",
      "metadata": {
        "id": "3733269b-8085-4644-9d5d-baedcff13a2f",
        "tags": []
      },
      "outputs": [
        {
          "name": "stdout",
          "output_type": "stream",
          "text": [
            "View the evaluation results for project 'tools-agent-test-5d466cbc-ac81f626' at:\n",
            "https://smith.langchain.com/o/5bb51f22-2934-4e47-aafe-41a1950edaa5/datasets/f432944d-0aed-4bca-be5e-9290802e2765/compare?selectedSessions=416f5722-7af8-4a0e-9726-a0804aaeee12\n",
            "\n",
            "View all tests for Dataset agent-qa-ac81f626 at:\n",
            "https://smith.langchain.com/o/5bb51f22-2934-4e47-aafe-41a1950edaa5/datasets/f432944d-0aed-4bca-be5e-9290802e2765\n",
            "[>                                                 ] 0/5"
          ]
        },
        {
          "name": "stderr",
          "output_type": "stream",
          "text": [
            "/Users/harrywang/sandbox/ai-tutorials/venv/lib/python3.10/site-packages/langchain_core/_api/deprecation.py:117: LangChainDeprecationWarning: The class `langchain_community.embeddings.openai.OpenAIEmbeddings` was deprecated in langchain-community 0.0.9 and will be removed in 0.2.0. An updated version of the class exists in the langchain-openai package and should be used instead. To use it run `pip install -U langchain-openai` and import as `from langchain_openai import OpenAIEmbeddings`.\n",
            "  warn_deprecated(\n"
          ]
        },
        {
          "name": "stdout",
          "output_type": "stream",
          "text": [
            "[------------------------------------------------->] 5/5"
          ]
        },
        {
          "data": {
            "text/html": [
              "<h3>Experiment Results:</h3>"
            ],
            "text/plain": [
              "<IPython.core.display.HTML object>"
            ]
          },
          "metadata": {},
          "output_type": "display_data"
        },
        {
          "data": {
            "text/html": [
              "<div>\n",
              "<style scoped>\n",
              "    .dataframe tbody tr th:only-of-type {\n",
              "        vertical-align: middle;\n",
              "    }\n",
              "\n",
              "    .dataframe tbody tr th {\n",
              "        vertical-align: top;\n",
              "    }\n",
              "\n",
              "    .dataframe thead th {\n",
              "        text-align: right;\n",
              "    }\n",
              "</style>\n",
              "<table border=\"1\" class=\"dataframe\">\n",
              "  <thead>\n",
              "    <tr style=\"text-align: right;\">\n",
              "      <th></th>\n",
              "      <th>feedback.not_uncertain</th>\n",
              "      <th>feedback.correctness</th>\n",
              "      <th>feedback.embedding_cosine_distance</th>\n",
              "      <th>feedback.helpfulness</th>\n",
              "      <th>feedback.score_string:accuracy</th>\n",
              "      <th>error</th>\n",
              "      <th>execution_time</th>\n",
              "      <th>run_id</th>\n",
              "    </tr>\n",
              "  </thead>\n",
              "  <tbody>\n",
              "    <tr>\n",
              "      <th>count</th>\n",
              "      <td>5.0</td>\n",
              "      <td>5.000000</td>\n",
              "      <td>5.000000</td>\n",
              "      <td>5.000000</td>\n",
              "      <td>5.000000</td>\n",
              "      <td>0</td>\n",
              "      <td>5.000000</td>\n",
              "      <td>5</td>\n",
              "    </tr>\n",
              "    <tr>\n",
              "      <th>unique</th>\n",
              "      <td>NaN</td>\n",
              "      <td>NaN</td>\n",
              "      <td>NaN</td>\n",
              "      <td>NaN</td>\n",
              "      <td>NaN</td>\n",
              "      <td>0</td>\n",
              "      <td>NaN</td>\n",
              "      <td>5</td>\n",
              "    </tr>\n",
              "    <tr>\n",
              "      <th>top</th>\n",
              "      <td>NaN</td>\n",
              "      <td>NaN</td>\n",
              "      <td>NaN</td>\n",
              "      <td>NaN</td>\n",
              "      <td>NaN</td>\n",
              "      <td>NaN</td>\n",
              "      <td>NaN</td>\n",
              "      <td>355b5d20-467d-4482-945e-dbb25d3c33f6</td>\n",
              "    </tr>\n",
              "    <tr>\n",
              "      <th>freq</th>\n",
              "      <td>NaN</td>\n",
              "      <td>NaN</td>\n",
              "      <td>NaN</td>\n",
              "      <td>NaN</td>\n",
              "      <td>NaN</td>\n",
              "      <td>NaN</td>\n",
              "      <td>NaN</td>\n",
              "      <td>1</td>\n",
              "    </tr>\n",
              "    <tr>\n",
              "      <th>mean</th>\n",
              "      <td>1.0</td>\n",
              "      <td>0.600000</td>\n",
              "      <td>0.130842</td>\n",
              "      <td>0.800000</td>\n",
              "      <td>0.780000</td>\n",
              "      <td>NaN</td>\n",
              "      <td>3.564310</td>\n",
              "      <td>NaN</td>\n",
              "    </tr>\n",
              "    <tr>\n",
              "      <th>std</th>\n",
              "      <td>0.0</td>\n",
              "      <td>0.547723</td>\n",
              "      <td>0.099893</td>\n",
              "      <td>0.447214</td>\n",
              "      <td>0.216795</td>\n",
              "      <td>NaN</td>\n",
              "      <td>0.809289</td>\n",
              "      <td>NaN</td>\n",
              "    </tr>\n",
              "    <tr>\n",
              "      <th>min</th>\n",
              "      <td>1.0</td>\n",
              "      <td>0.000000</td>\n",
              "      <td>0.039426</td>\n",
              "      <td>0.000000</td>\n",
              "      <td>0.500000</td>\n",
              "      <td>NaN</td>\n",
              "      <td>2.643885</td>\n",
              "      <td>NaN</td>\n",
              "    </tr>\n",
              "    <tr>\n",
              "      <th>25%</th>\n",
              "      <td>1.0</td>\n",
              "      <td>0.000000</td>\n",
              "      <td>0.066036</td>\n",
              "      <td>1.000000</td>\n",
              "      <td>0.700000</td>\n",
              "      <td>NaN</td>\n",
              "      <td>3.136887</td>\n",
              "      <td>NaN</td>\n",
              "    </tr>\n",
              "    <tr>\n",
              "      <th>50%</th>\n",
              "      <td>1.0</td>\n",
              "      <td>1.000000</td>\n",
              "      <td>0.098833</td>\n",
              "      <td>1.000000</td>\n",
              "      <td>0.700000</td>\n",
              "      <td>NaN</td>\n",
              "      <td>3.317314</td>\n",
              "      <td>NaN</td>\n",
              "    </tr>\n",
              "    <tr>\n",
              "      <th>75%</th>\n",
              "      <td>1.0</td>\n",
              "      <td>1.000000</td>\n",
              "      <td>0.159314</td>\n",
              "      <td>1.000000</td>\n",
              "      <td>1.000000</td>\n",
              "      <td>NaN</td>\n",
              "      <td>4.003156</td>\n",
              "      <td>NaN</td>\n",
              "    </tr>\n",
              "    <tr>\n",
              "      <th>max</th>\n",
              "      <td>1.0</td>\n",
              "      <td>1.000000</td>\n",
              "      <td>0.290599</td>\n",
              "      <td>1.000000</td>\n",
              "      <td>1.000000</td>\n",
              "      <td>NaN</td>\n",
              "      <td>4.720308</td>\n",
              "      <td>NaN</td>\n",
              "    </tr>\n",
              "  </tbody>\n",
              "</table>\n",
              "</div>"
            ],
            "text/plain": [
              "        feedback.not_uncertain  feedback.correctness  \\\n",
              "count                      5.0              5.000000   \n",
              "unique                     NaN                   NaN   \n",
              "top                        NaN                   NaN   \n",
              "freq                       NaN                   NaN   \n",
              "mean                       1.0              0.600000   \n",
              "std                        0.0              0.547723   \n",
              "min                        1.0              0.000000   \n",
              "25%                        1.0              0.000000   \n",
              "50%                        1.0              1.000000   \n",
              "75%                        1.0              1.000000   \n",
              "max                        1.0              1.000000   \n",
              "\n",
              "        feedback.embedding_cosine_distance  feedback.helpfulness  \\\n",
              "count                             5.000000              5.000000   \n",
              "unique                                 NaN                   NaN   \n",
              "top                                    NaN                   NaN   \n",
              "freq                                   NaN                   NaN   \n",
              "mean                              0.130842              0.800000   \n",
              "std                               0.099893              0.447214   \n",
              "min                               0.039426              0.000000   \n",
              "25%                               0.066036              1.000000   \n",
              "50%                               0.098833              1.000000   \n",
              "75%                               0.159314              1.000000   \n",
              "max                               0.290599              1.000000   \n",
              "\n",
              "        feedback.score_string:accuracy error  execution_time  \\\n",
              "count                         5.000000     0        5.000000   \n",
              "unique                             NaN     0             NaN   \n",
              "top                                NaN   NaN             NaN   \n",
              "freq                               NaN   NaN             NaN   \n",
              "mean                          0.780000   NaN        3.564310   \n",
              "std                           0.216795   NaN        0.809289   \n",
              "min                           0.500000   NaN        2.643885   \n",
              "25%                           0.700000   NaN        3.136887   \n",
              "50%                           0.700000   NaN        3.317314   \n",
              "75%                           1.000000   NaN        4.003156   \n",
              "max                           1.000000   NaN        4.720308   \n",
              "\n",
              "                                      run_id  \n",
              "count                                      5  \n",
              "unique                                     5  \n",
              "top     355b5d20-467d-4482-945e-dbb25d3c33f6  \n",
              "freq                                       1  \n",
              "mean                                     NaN  \n",
              "std                                      NaN  \n",
              "min                                      NaN  \n",
              "25%                                      NaN  \n",
              "50%                                      NaN  \n",
              "75%                                      NaN  \n",
              "max                                      NaN  "
            ]
          },
          "metadata": {},
          "output_type": "display_data"
        }
      ],
      "source": [
        "import functools\n",
        "\n",
        "from langchain.smith import arun_on_dataset, run_on_dataset\n",
        "\n",
        "chain_results = run_on_dataset(\n",
        "    dataset_name=dataset_name,\n",
        "    llm_or_chain_factory=functools.partial(\n",
        "        create_agent, prompt=prompt, llm_with_tools=llm_with_tools\n",
        "    ),\n",
        "    evaluation=evaluation_config,\n",
        "    verbose=True,\n",
        "    client=client,\n",
        "    project_name=f\"tools-agent-test-5d466cbc-{unique_id}\",\n",
        "    # Project metadata communicates the experiment parameters,\n",
        "    # Useful for reviewing the test results\n",
        "    project_metadata={\n",
        "        \"env\": \"testing-notebook\",\n",
        "        \"model\": \"gpt-3.5-turbo\",\n",
        "        \"prompt\": \"5d466cbc\",\n",
        "    },\n",
        ")\n",
        "\n",
        "# Sometimes, the agent will error due to parsing issues, incompatible tool inputs, etc.\n",
        "# These are logged as warnings here and captured as errors in the tracing UI."
      ]
    },
    {
      "cell_type": "markdown",
      "id": "cdacd159-eb4d-49e9-bb2a-c55322c40ed4",
      "metadata": {
        "id": "cdacd159-eb4d-49e9-bb2a-c55322c40ed4",
        "tags": []
      },
      "source": [
        "### Review the test results\n",
        "\n",
        "You can review the test results tracing UI below by clicking the URL in the output above or navigating to the \"Testing & Datasets\" page in LangSmith  **\"agent-qa-{unique_id}\"** dataset.\n",
        "\n",
        "![test results](https://github.com/langchain-ai/langchain/blob/master/docs/docs/langsmith/img/test_results.png?raw=1)\n",
        "\n",
        "This will show the new runs and the feedback logged from the selected evaluators. You can also explore a summary of the results in tabular format below."
      ]
    },
    {
      "cell_type": "code",
      "execution_count": 15,
      "id": "9da60638-5be8-4b5f-a721-2c6627aeaf0c",
      "metadata": {
        "id": "9da60638-5be8-4b5f-a721-2c6627aeaf0c"
      },
      "outputs": [
        {
          "data": {
            "text/html": [
              "<div>\n",
              "<style scoped>\n",
              "    .dataframe tbody tr th:only-of-type {\n",
              "        vertical-align: middle;\n",
              "    }\n",
              "\n",
              "    .dataframe tbody tr th {\n",
              "        vertical-align: top;\n",
              "    }\n",
              "\n",
              "    .dataframe thead th {\n",
              "        text-align: right;\n",
              "    }\n",
              "</style>\n",
              "<table border=\"1\" class=\"dataframe\">\n",
              "  <thead>\n",
              "    <tr style=\"text-align: right;\">\n",
              "      <th></th>\n",
              "      <th>inputs.input</th>\n",
              "      <th>outputs.input</th>\n",
              "      <th>outputs.output</th>\n",
              "      <th>reference.output</th>\n",
              "      <th>feedback.not_uncertain</th>\n",
              "      <th>feedback.correctness</th>\n",
              "      <th>feedback.embedding_cosine_distance</th>\n",
              "      <th>feedback.helpfulness</th>\n",
              "      <th>feedback.score_string:accuracy</th>\n",
              "      <th>error</th>\n",
              "      <th>execution_time</th>\n",
              "      <th>run_id</th>\n",
              "    </tr>\n",
              "  </thead>\n",
              "  <tbody>\n",
              "    <tr>\n",
              "      <th>5d1bbe42-5138-448a-bca9-958ae84a3c51</th>\n",
              "      <td>What is the langsmith cookbook?</td>\n",
              "      <td>What is the langsmith cookbook?</td>\n",
              "      <td>The LangSmith Cookbook is a repository that co...</td>\n",
              "      <td>The langsmith cookbook is a github repository ...</td>\n",
              "      <td>1</td>\n",
              "      <td>1</td>\n",
              "      <td>0.039426</td>\n",
              "      <td>1</td>\n",
              "      <td>1.0</td>\n",
              "      <td>None</td>\n",
              "      <td>4.003156</td>\n",
              "      <td>355b5d20-467d-4482-945e-dbb25d3c33f6</td>\n",
              "    </tr>\n",
              "    <tr>\n",
              "      <th>a6e3a2f4-5d5f-463b-a5db-993dfb08f8f6</th>\n",
              "      <td>When did langchain first announce the hub?</td>\n",
              "      <td>When did langchain first announce the hub?</td>\n",
              "      <td>LangChain first announced the LangChain Hub a ...</td>\n",
              "      <td>September 5, 2023</td>\n",
              "      <td>1</td>\n",
              "      <td>0</td>\n",
              "      <td>0.290599</td>\n",
              "      <td>0</td>\n",
              "      <td>0.5</td>\n",
              "      <td>None</td>\n",
              "      <td>3.136887</td>\n",
              "      <td>916a69a2-b180-43b5-98df-36bcf575a127</td>\n",
              "    </tr>\n",
              "    <tr>\n",
              "      <th>cd6424db-09ba-4a17-8d71-bfa3a3ffd98d</th>\n",
              "      <td>What is LangChain?</td>\n",
              "      <td>What is LangChain?</td>\n",
              "      <td>LangChain is an open-source Python library tha...</td>\n",
              "      <td>LangChain is an open-source framework for buil...</td>\n",
              "      <td>1</td>\n",
              "      <td>0</td>\n",
              "      <td>0.098833</td>\n",
              "      <td>1</td>\n",
              "      <td>0.7</td>\n",
              "      <td>None</td>\n",
              "      <td>4.720308</td>\n",
              "      <td>7bd28536-1f51-4d88-ab5a-89bafe9a93c7</td>\n",
              "    </tr>\n",
              "    <tr>\n",
              "      <th>c73af836-bafb-4d67-b961-81b997cfa243</th>\n",
              "      <td>What's LangSmith?</td>\n",
              "      <td>What's LangSmith?</td>\n",
              "      <td>LangSmith is a platform that allows you to tes...</td>\n",
              "      <td>LangSmith is a unified platform for debugging,...</td>\n",
              "      <td>1</td>\n",
              "      <td>1</td>\n",
              "      <td>0.066036</td>\n",
              "      <td>1</td>\n",
              "      <td>0.7</td>\n",
              "      <td>None</td>\n",
              "      <td>3.317314</td>\n",
              "      <td>1000ee5d-8808-48e2-855c-a70ebd97b4fb</td>\n",
              "    </tr>\n",
              "    <tr>\n",
              "      <th>e32104e9-8c05-46cf-9823-ac5cffe36731</th>\n",
              "      <td>When was Llama-v2 released?</td>\n",
              "      <td>When was Llama-v2 released?</td>\n",
              "      <td>LangChain Llama-v2 was released on July 18, 2023.</td>\n",
              "      <td>July 18, 2023</td>\n",
              "      <td>1</td>\n",
              "      <td>1</td>\n",
              "      <td>0.159314</td>\n",
              "      <td>1</td>\n",
              "      <td>1.0</td>\n",
              "      <td>None</td>\n",
              "      <td>2.643885</td>\n",
              "      <td>47333bf5-d9ce-4fcd-81f1-06cb6d68afd4</td>\n",
              "    </tr>\n",
              "  </tbody>\n",
              "</table>\n",
              "</div>"
            ],
            "text/plain": [
              "                                                                    inputs.input  \\\n",
              "5d1bbe42-5138-448a-bca9-958ae84a3c51             What is the langsmith cookbook?   \n",
              "a6e3a2f4-5d5f-463b-a5db-993dfb08f8f6  When did langchain first announce the hub?   \n",
              "cd6424db-09ba-4a17-8d71-bfa3a3ffd98d                          What is LangChain?   \n",
              "c73af836-bafb-4d67-b961-81b997cfa243                           What's LangSmith?   \n",
              "e32104e9-8c05-46cf-9823-ac5cffe36731                 When was Llama-v2 released?   \n",
              "\n",
              "                                                                   outputs.input  \\\n",
              "5d1bbe42-5138-448a-bca9-958ae84a3c51             What is the langsmith cookbook?   \n",
              "a6e3a2f4-5d5f-463b-a5db-993dfb08f8f6  When did langchain first announce the hub?   \n",
              "cd6424db-09ba-4a17-8d71-bfa3a3ffd98d                          What is LangChain?   \n",
              "c73af836-bafb-4d67-b961-81b997cfa243                           What's LangSmith?   \n",
              "e32104e9-8c05-46cf-9823-ac5cffe36731                 When was Llama-v2 released?   \n",
              "\n",
              "                                                                         outputs.output  \\\n",
              "5d1bbe42-5138-448a-bca9-958ae84a3c51  The LangSmith Cookbook is a repository that co...   \n",
              "a6e3a2f4-5d5f-463b-a5db-993dfb08f8f6  LangChain first announced the LangChain Hub a ...   \n",
              "cd6424db-09ba-4a17-8d71-bfa3a3ffd98d  LangChain is an open-source Python library tha...   \n",
              "c73af836-bafb-4d67-b961-81b997cfa243  LangSmith is a platform that allows you to tes...   \n",
              "e32104e9-8c05-46cf-9823-ac5cffe36731  LangChain Llama-v2 was released on July 18, 2023.   \n",
              "\n",
              "                                                                       reference.output  \\\n",
              "5d1bbe42-5138-448a-bca9-958ae84a3c51  The langsmith cookbook is a github repository ...   \n",
              "a6e3a2f4-5d5f-463b-a5db-993dfb08f8f6                                  September 5, 2023   \n",
              "cd6424db-09ba-4a17-8d71-bfa3a3ffd98d  LangChain is an open-source framework for buil...   \n",
              "c73af836-bafb-4d67-b961-81b997cfa243  LangSmith is a unified platform for debugging,...   \n",
              "e32104e9-8c05-46cf-9823-ac5cffe36731                                      July 18, 2023   \n",
              "\n",
              "                                      feedback.not_uncertain  \\\n",
              "5d1bbe42-5138-448a-bca9-958ae84a3c51                       1   \n",
              "a6e3a2f4-5d5f-463b-a5db-993dfb08f8f6                       1   \n",
              "cd6424db-09ba-4a17-8d71-bfa3a3ffd98d                       1   \n",
              "c73af836-bafb-4d67-b961-81b997cfa243                       1   \n",
              "e32104e9-8c05-46cf-9823-ac5cffe36731                       1   \n",
              "\n",
              "                                      feedback.correctness  \\\n",
              "5d1bbe42-5138-448a-bca9-958ae84a3c51                     1   \n",
              "a6e3a2f4-5d5f-463b-a5db-993dfb08f8f6                     0   \n",
              "cd6424db-09ba-4a17-8d71-bfa3a3ffd98d                     0   \n",
              "c73af836-bafb-4d67-b961-81b997cfa243                     1   \n",
              "e32104e9-8c05-46cf-9823-ac5cffe36731                     1   \n",
              "\n",
              "                                      feedback.embedding_cosine_distance  \\\n",
              "5d1bbe42-5138-448a-bca9-958ae84a3c51                            0.039426   \n",
              "a6e3a2f4-5d5f-463b-a5db-993dfb08f8f6                            0.290599   \n",
              "cd6424db-09ba-4a17-8d71-bfa3a3ffd98d                            0.098833   \n",
              "c73af836-bafb-4d67-b961-81b997cfa243                            0.066036   \n",
              "e32104e9-8c05-46cf-9823-ac5cffe36731                            0.159314   \n",
              "\n",
              "                                      feedback.helpfulness  \\\n",
              "5d1bbe42-5138-448a-bca9-958ae84a3c51                     1   \n",
              "a6e3a2f4-5d5f-463b-a5db-993dfb08f8f6                     0   \n",
              "cd6424db-09ba-4a17-8d71-bfa3a3ffd98d                     1   \n",
              "c73af836-bafb-4d67-b961-81b997cfa243                     1   \n",
              "e32104e9-8c05-46cf-9823-ac5cffe36731                     1   \n",
              "\n",
              "                                      feedback.score_string:accuracy error  \\\n",
              "5d1bbe42-5138-448a-bca9-958ae84a3c51                             1.0  None   \n",
              "a6e3a2f4-5d5f-463b-a5db-993dfb08f8f6                             0.5  None   \n",
              "cd6424db-09ba-4a17-8d71-bfa3a3ffd98d                             0.7  None   \n",
              "c73af836-bafb-4d67-b961-81b997cfa243                             0.7  None   \n",
              "e32104e9-8c05-46cf-9823-ac5cffe36731                             1.0  None   \n",
              "\n",
              "                                      execution_time  \\\n",
              "5d1bbe42-5138-448a-bca9-958ae84a3c51        4.003156   \n",
              "a6e3a2f4-5d5f-463b-a5db-993dfb08f8f6        3.136887   \n",
              "cd6424db-09ba-4a17-8d71-bfa3a3ffd98d        4.720308   \n",
              "c73af836-bafb-4d67-b961-81b997cfa243        3.317314   \n",
              "e32104e9-8c05-46cf-9823-ac5cffe36731        2.643885   \n",
              "\n",
              "                                                                    run_id  \n",
              "5d1bbe42-5138-448a-bca9-958ae84a3c51  355b5d20-467d-4482-945e-dbb25d3c33f6  \n",
              "a6e3a2f4-5d5f-463b-a5db-993dfb08f8f6  916a69a2-b180-43b5-98df-36bcf575a127  \n",
              "cd6424db-09ba-4a17-8d71-bfa3a3ffd98d  7bd28536-1f51-4d88-ab5a-89bafe9a93c7  \n",
              "c73af836-bafb-4d67-b961-81b997cfa243  1000ee5d-8808-48e2-855c-a70ebd97b4fb  \n",
              "e32104e9-8c05-46cf-9823-ac5cffe36731  47333bf5-d9ce-4fcd-81f1-06cb6d68afd4  "
            ]
          },
          "execution_count": 15,
          "metadata": {},
          "output_type": "execute_result"
        }
      ],
      "source": [
        "chain_results.to_dataframe()"
      ]
    },
    {
      "cell_type": "markdown",
      "id": "13aad317-73ff-46a7-a5a0-60b5b5295f02",
      "metadata": {
        "id": "13aad317-73ff-46a7-a5a0-60b5b5295f02"
      },
      "source": [
        "### (Optional) Compare to another prompt\n",
        "\n",
        "Now that we have our test run results, we can make changes to our agent and benchmark them. Let's try this again with a different prompt and see the results."
      ]
    },
    {
      "cell_type": "code",
      "execution_count": 16,
      "id": "5eeb023f-ded2-4d0f-b910-2a57d9675853",
      "metadata": {
        "id": "5eeb023f-ded2-4d0f-b910-2a57d9675853"
      },
      "outputs": [
        {
          "name": "stdout",
          "output_type": "stream",
          "text": [
            "View the evaluation results for project 'tools-agent-test-39f3bbd0-ac81f626' at:\n",
            "https://smith.langchain.com/o/5bb51f22-2934-4e47-aafe-41a1950edaa5/datasets/f432944d-0aed-4bca-be5e-9290802e2765/compare?selectedSessions=8c1f4ec1-78a6-4c36-b0a5-a33ee1bfdba8\n",
            "\n",
            "View all tests for Dataset agent-qa-ac81f626 at:\n",
            "https://smith.langchain.com/o/5bb51f22-2934-4e47-aafe-41a1950edaa5/datasets/f432944d-0aed-4bca-be5e-9290802e2765\n",
            "[------------------------------------------------->] 5/5"
          ]
        },
        {
          "data": {
            "text/html": [
              "<h3>Experiment Results:</h3>"
            ],
            "text/plain": [
              "<IPython.core.display.HTML object>"
            ]
          },
          "metadata": {},
          "output_type": "display_data"
        },
        {
          "data": {
            "text/html": [
              "<div>\n",
              "<style scoped>\n",
              "    .dataframe tbody tr th:only-of-type {\n",
              "        vertical-align: middle;\n",
              "    }\n",
              "\n",
              "    .dataframe tbody tr th {\n",
              "        vertical-align: top;\n",
              "    }\n",
              "\n",
              "    .dataframe thead th {\n",
              "        text-align: right;\n",
              "    }\n",
              "</style>\n",
              "<table border=\"1\" class=\"dataframe\">\n",
              "  <thead>\n",
              "    <tr style=\"text-align: right;\">\n",
              "      <th></th>\n",
              "      <th>feedback.not_uncertain</th>\n",
              "      <th>feedback.correctness</th>\n",
              "      <th>feedback.embedding_cosine_distance</th>\n",
              "      <th>feedback.helpfulness</th>\n",
              "      <th>feedback.score_string:accuracy</th>\n",
              "      <th>error</th>\n",
              "      <th>execution_time</th>\n",
              "      <th>run_id</th>\n",
              "    </tr>\n",
              "  </thead>\n",
              "  <tbody>\n",
              "    <tr>\n",
              "      <th>count</th>\n",
              "      <td>5.0</td>\n",
              "      <td>5.0</td>\n",
              "      <td>5.000000</td>\n",
              "      <td>5.0</td>\n",
              "      <td>5.000000</td>\n",
              "      <td>0</td>\n",
              "      <td>5.000000</td>\n",
              "      <td>5</td>\n",
              "    </tr>\n",
              "    <tr>\n",
              "      <th>unique</th>\n",
              "      <td>NaN</td>\n",
              "      <td>NaN</td>\n",
              "      <td>NaN</td>\n",
              "      <td>NaN</td>\n",
              "      <td>NaN</td>\n",
              "      <td>0</td>\n",
              "      <td>NaN</td>\n",
              "      <td>5</td>\n",
              "    </tr>\n",
              "    <tr>\n",
              "      <th>top</th>\n",
              "      <td>NaN</td>\n",
              "      <td>NaN</td>\n",
              "      <td>NaN</td>\n",
              "      <td>NaN</td>\n",
              "      <td>NaN</td>\n",
              "      <td>NaN</td>\n",
              "      <td>NaN</td>\n",
              "      <td>f3e630c8-a48b-473d-ac63-2d0261d1f0de</td>\n",
              "    </tr>\n",
              "    <tr>\n",
              "      <th>freq</th>\n",
              "      <td>NaN</td>\n",
              "      <td>NaN</td>\n",
              "      <td>NaN</td>\n",
              "      <td>NaN</td>\n",
              "      <td>NaN</td>\n",
              "      <td>NaN</td>\n",
              "      <td>NaN</td>\n",
              "      <td>1</td>\n",
              "    </tr>\n",
              "    <tr>\n",
              "      <th>mean</th>\n",
              "      <td>1.0</td>\n",
              "      <td>1.0</td>\n",
              "      <td>0.104468</td>\n",
              "      <td>1.0</td>\n",
              "      <td>0.880000</td>\n",
              "      <td>NaN</td>\n",
              "      <td>3.457657</td>\n",
              "      <td>NaN</td>\n",
              "    </tr>\n",
              "    <tr>\n",
              "      <th>std</th>\n",
              "      <td>0.0</td>\n",
              "      <td>0.0</td>\n",
              "      <td>0.053067</td>\n",
              "      <td>0.0</td>\n",
              "      <td>0.164317</td>\n",
              "      <td>NaN</td>\n",
              "      <td>1.369182</td>\n",
              "      <td>NaN</td>\n",
              "    </tr>\n",
              "    <tr>\n",
              "      <th>min</th>\n",
              "      <td>1.0</td>\n",
              "      <td>1.0</td>\n",
              "      <td>0.041164</td>\n",
              "      <td>1.0</td>\n",
              "      <td>0.700000</td>\n",
              "      <td>NaN</td>\n",
              "      <td>2.319222</td>\n",
              "      <td>NaN</td>\n",
              "    </tr>\n",
              "    <tr>\n",
              "      <th>25%</th>\n",
              "      <td>1.0</td>\n",
              "      <td>1.0</td>\n",
              "      <td>0.067801</td>\n",
              "      <td>1.0</td>\n",
              "      <td>0.700000</td>\n",
              "      <td>NaN</td>\n",
              "      <td>2.472358</td>\n",
              "      <td>NaN</td>\n",
              "    </tr>\n",
              "    <tr>\n",
              "      <th>50%</th>\n",
              "      <td>1.0</td>\n",
              "      <td>1.0</td>\n",
              "      <td>0.096737</td>\n",
              "      <td>1.0</td>\n",
              "      <td>1.000000</td>\n",
              "      <td>NaN</td>\n",
              "      <td>3.287395</td>\n",
              "      <td>NaN</td>\n",
              "    </tr>\n",
              "    <tr>\n",
              "      <th>75%</th>\n",
              "      <td>1.0</td>\n",
              "      <td>1.0</td>\n",
              "      <td>0.153193</td>\n",
              "      <td>1.0</td>\n",
              "      <td>1.000000</td>\n",
              "      <td>NaN</td>\n",
              "      <td>3.470725</td>\n",
              "      <td>NaN</td>\n",
              "    </tr>\n",
              "    <tr>\n",
              "      <th>max</th>\n",
              "      <td>1.0</td>\n",
              "      <td>1.0</td>\n",
              "      <td>0.163448</td>\n",
              "      <td>1.0</td>\n",
              "      <td>1.000000</td>\n",
              "      <td>NaN</td>\n",
              "      <td>5.738585</td>\n",
              "      <td>NaN</td>\n",
              "    </tr>\n",
              "  </tbody>\n",
              "</table>\n",
              "</div>"
            ],
            "text/plain": [
              "        feedback.not_uncertain  feedback.correctness  \\\n",
              "count                      5.0                   5.0   \n",
              "unique                     NaN                   NaN   \n",
              "top                        NaN                   NaN   \n",
              "freq                       NaN                   NaN   \n",
              "mean                       1.0                   1.0   \n",
              "std                        0.0                   0.0   \n",
              "min                        1.0                   1.0   \n",
              "25%                        1.0                   1.0   \n",
              "50%                        1.0                   1.0   \n",
              "75%                        1.0                   1.0   \n",
              "max                        1.0                   1.0   \n",
              "\n",
              "        feedback.embedding_cosine_distance  feedback.helpfulness  \\\n",
              "count                             5.000000                   5.0   \n",
              "unique                                 NaN                   NaN   \n",
              "top                                    NaN                   NaN   \n",
              "freq                                   NaN                   NaN   \n",
              "mean                              0.104468                   1.0   \n",
              "std                               0.053067                   0.0   \n",
              "min                               0.041164                   1.0   \n",
              "25%                               0.067801                   1.0   \n",
              "50%                               0.096737                   1.0   \n",
              "75%                               0.153193                   1.0   \n",
              "max                               0.163448                   1.0   \n",
              "\n",
              "        feedback.score_string:accuracy error  execution_time  \\\n",
              "count                         5.000000     0        5.000000   \n",
              "unique                             NaN     0             NaN   \n",
              "top                                NaN   NaN             NaN   \n",
              "freq                               NaN   NaN             NaN   \n",
              "mean                          0.880000   NaN        3.457657   \n",
              "std                           0.164317   NaN        1.369182   \n",
              "min                           0.700000   NaN        2.319222   \n",
              "25%                           0.700000   NaN        2.472358   \n",
              "50%                           1.000000   NaN        3.287395   \n",
              "75%                           1.000000   NaN        3.470725   \n",
              "max                           1.000000   NaN        5.738585   \n",
              "\n",
              "                                      run_id  \n",
              "count                                      5  \n",
              "unique                                     5  \n",
              "top     f3e630c8-a48b-473d-ac63-2d0261d1f0de  \n",
              "freq                                       1  \n",
              "mean                                     NaN  \n",
              "std                                      NaN  \n",
              "min                                      NaN  \n",
              "25%                                      NaN  \n",
              "50%                                      NaN  \n",
              "75%                                      NaN  \n",
              "max                                      NaN  "
            ]
          },
          "metadata": {},
          "output_type": "display_data"
        }
      ],
      "source": [
        "candidate_prompt = hub.pull(\"wfh/langsmith-agent-prompt:39f3bbd0\")\n",
        "\n",
        "chain_results = run_on_dataset(\n",
        "    dataset_name=dataset_name,\n",
        "    llm_or_chain_factory=functools.partial(\n",
        "        create_agent, prompt=candidate_prompt, llm_with_tools=llm_with_tools\n",
        "    ),\n",
        "    evaluation=evaluation_config,\n",
        "    verbose=True,\n",
        "    client=client,\n",
        "    project_name=f\"tools-agent-test-39f3bbd0-{unique_id}\",\n",
        "    project_metadata={\n",
        "        \"env\": \"testing-notebook\",\n",
        "        \"model\": \"gpt-3.5-turbo\",\n",
        "        \"prompt\": \"39f3bbd0\",\n",
        "    },\n",
        ")"
      ]
    },
    {
      "cell_type": "markdown",
      "id": "9fafd1dd-debf-4256-a609-a6b3a7c52c49",
      "metadata": {
        "id": "9fafd1dd-debf-4256-a609-a6b3a7c52c49"
      },
      "source": [
        "## Exporting datasets and runs\n",
        "\n",
        "LangSmith lets you export data to common formats such as CSV or JSONL directly in the web app. You can also use the client to fetch runs for further analysis, to store in your own database, or to share with others. Let's fetch the run traces from the evaluation run.\n",
        "\n",
        "**Note: It may be a few moments before all the runs are accessible.**"
      ]
    },
    {
      "cell_type": "code",
      "execution_count": 17,
      "id": "33bfefde-d1bb-4f50-9f7a-fd572ee76820",
      "metadata": {
        "id": "33bfefde-d1bb-4f50-9f7a-fd572ee76820",
        "tags": []
      },
      "outputs": [],
      "source": [
        "runs = client.list_runs(project_name=chain_results[\"project_name\"], execution_order=1)"
      ]
    },
    {
      "cell_type": "code",
      "execution_count": 18,
      "id": "f45de493-8f2a-43b9-a979-6fe694948532",
      "metadata": {
        "id": "f45de493-8f2a-43b9-a979-6fe694948532"
      },
      "outputs": [
        {
          "data": {
            "text/plain": [
              "{'env': 'testing-notebook',\n",
              " 'git': {'tags': None,\n",
              "  'dirty': True,\n",
              "  'branch': 'main',\n",
              "  'commit': 'befa9af80d9f4362ec789e2cece964c695f9ce89',\n",
              "  'remote_url': 'https://github.com/harrywang/langchain-tutorials.git',\n",
              "  'author_name': 'Harry Wang',\n",
              "  'commit_time': '1711650818',\n",
              "  'author_email': 'harryjwang@gmail.com'},\n",
              " 'model': 'gpt-3.5-turbo',\n",
              " 'prompt': '39f3bbd0',\n",
              " 'dataset_version': '2024-04-02T02:49:18.716384+00:00'}"
            ]
          },
          "execution_count": 18,
          "metadata": {},
          "output_type": "execute_result"
        }
      ],
      "source": [
        "# The resulting tests are stored in a project.  You can programmatically\n",
        "# access important metadata from the test, such as the dataset version it was run on\n",
        "# or your application's revision ID.\n",
        "client.read_project(project_name=chain_results[\"project_name\"]).metadata"
      ]
    },
    {
      "cell_type": "code",
      "execution_count": 19,
      "id": "6595c888-1f5c-4ae3-9390-0a559f5575d1",
      "metadata": {
        "id": "6595c888-1f5c-4ae3-9390-0a559f5575d1",
        "tags": []
      },
      "outputs": [
        {
          "data": {
            "text/plain": [
              "{'correctness': {'n': 5, 'avg': 1.0},\n",
              " 'embedding_cosine_distance': {'n': 5, 'avg': 0.10442},\n",
              " 'helpfulness': {'n': 5, 'avg': 1.0},\n",
              " 'not_uncertain': {'n': 5, 'avg': 1.0},\n",
              " 'score_string:accuracy': {'n': 5, 'avg': 0.8800000000000001}}"
            ]
          },
          "execution_count": 19,
          "metadata": {},
          "output_type": "execute_result"
        }
      ],
      "source": [
        "# After some time, the test metrics will be populated as well.\n",
        "client.read_project(project_name=chain_results[\"project_name\"]).feedback_stats"
      ]
    },
    {
      "cell_type": "markdown",
      "id": "2646f0fb-81d4-43ce-8a9b-54b8e19841e2",
      "metadata": {
        "id": "2646f0fb-81d4-43ce-8a9b-54b8e19841e2",
        "tags": []
      },
      "source": [
        "## Conclusion\n",
        "\n",
        "Congratulations! You have successfully traced and evaluated an agent using LangSmith!\n",
        "\n",
        "This was a quick guide to get started, but there are many more ways to use LangSmith to speed up your developer flow and produce better results.\n",
        "\n",
        "For more information on how you can get the most out of LangSmith, check out [LangSmith documentation](https://docs.smith.langchain.com/), and please reach out with questions, feature requests, or feedback at [support@langchain.dev](mailto:support@langchain.dev)."
      ]
    }
  ],
  "metadata": {
    "colab": {
      "provenance": []
    },
    "kernelspec": {
      "display_name": "Python 3 (ipykernel)",
      "language": "python",
      "name": "python3"
    },
    "language_info": {
      "codemirror_mode": {
        "name": "ipython",
        "version": 3
      },
      "file_extension": ".py",
      "mimetype": "text/x-python",
      "name": "python",
      "nbconvert_exporter": "python",
      "pygments_lexer": "ipython3",
      "version": "3.10.6"
    }
  },
  "nbformat": 4,
  "nbformat_minor": 5
}
