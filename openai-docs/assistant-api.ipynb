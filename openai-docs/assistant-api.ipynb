{
 "cells": [
  {
   "cell_type": "markdown",
   "metadata": {},
   "source": [
    "# code interpreter"
   ]
  },
  {
   "cell_type": "code",
   "execution_count": 2,
   "metadata": {},
   "outputs": [],
   "source": [
    "from openai import OpenAI\n",
    "client = OpenAI()"
   ]
  },
  {
   "cell_type": "code",
   "execution_count": 3,
   "metadata": {},
   "outputs": [
    {
     "name": "stdout",
     "output_type": "stream",
     "text": [
      "Assistant(id='asst_gc37nJMxpASWMkSZuGsXNw9A', created_at=1700421615, description=None, file_ids=[], instructions='You are a personal Python tutor. Write and run code to answer python questions', metadata={}, model='gpt-4-1106-preview', name='Python Tutor', object='assistant', tools=[ToolCodeInterpreter(type='code_interpreter')])\n"
     ]
    }
   ],
   "source": [
    "assistant = client.beta.assistants.create(\n",
    "    name=\"Python Tutor\",\n",
    "    instructions=\"You are a personal Python tutor. Write and run code to answer python questions\",\n",
    "    tools = [{\"type\": \"code_interpreter\"}],\n",
    "    model = \"gpt-4-1106-preview\",\n",
    ")\n",
    "print(assistant)"
   ]
  },
  {
   "cell_type": "code",
   "execution_count": 4,
   "metadata": {},
   "outputs": [
    {
     "name": "stdout",
     "output_type": "stream",
     "text": [
      "Thread(id='thread_les8EgAL1gdD7Hm1RzW0x91f', created_at=1700421621, metadata={}, object='thread')\n"
     ]
    }
   ],
   "source": [
    "# a thread is a conversation between a user and an assistant\n",
    "thread = client.beta.threads.create()\n",
    "print(thread)"
   ]
  },
  {
   "cell_type": "code",
   "execution_count": 10,
   "metadata": {},
   "outputs": [
    {
     "name": "stdout",
     "output_type": "stream",
     "text": [
      "asst_gc37nJMxpASWMkSZuGsXNw9A\n",
      "thread_les8EgAL1gdD7Hm1RzW0x91f\n"
     ]
    }
   ],
   "source": [
    "print(assistant.id)\n",
    "print(thread.id)"
   ]
  },
  {
   "cell_type": "code",
   "execution_count": 7,
   "metadata": {},
   "outputs": [],
   "source": [
    "message = client.beta.threads.messages.create(\n",
    "    thread_id=thread.id,\n",
    "    role=\"user\",\n",
    "    content=\"create code to reverse a hello in python - show the code\",\n",
    ")"
   ]
  },
  {
   "cell_type": "code",
   "execution_count": 8,
   "metadata": {},
   "outputs": [
    {
     "name": "stdout",
     "output_type": "stream",
     "text": [
      "user: create code to reverse a hello in python - show the code\n"
     ]
    }
   ],
   "source": [
    "messages = client.beta.threads.messages.list(\n",
    "    thread_id=thread.id,\n",
    ")\n",
    "for message in reversed(messages.data):\n",
    "    print(message.role + \": \" + message.content[0].text.value)"
   ]
  },
  {
   "cell_type": "code",
   "execution_count": 11,
   "metadata": {},
   "outputs": [
    {
     "name": "stdout",
     "output_type": "stream",
     "text": [
      "Run(id='run_loQomvDQqTbkyJ4qIxSeUvm8', assistant_id='asst_gc37nJMxpASWMkSZuGsXNw9A', cancelled_at=None, completed_at=None, created_at=1700421724, expires_at=1700422324, failed_at=None, file_ids=[], instructions='You are a personal Python tutor. Write and run code to answer python questions', last_error=None, metadata={}, model='gpt-4-1106-preview', object='thread.run', required_action=None, started_at=None, status='queued', thread_id='thread_les8EgAL1gdD7Hm1RzW0x91f', tools=[ToolAssistantToolsCode(type='code_interpreter')])\n"
     ]
    }
   ],
   "source": [
    "run = client.beta.threads.runs.create(\n",
    "    thread_id=thread.id,\n",
    "    assistant_id=assistant.id,\n",
    ")\n",
    "print(run)"
   ]
  },
  {
   "cell_type": "code",
   "execution_count": 14,
   "metadata": {},
   "outputs": [
    {
     "name": "stdout",
     "output_type": "stream",
     "text": [
      "Run(id='run_loQomvDQqTbkyJ4qIxSeUvm8', assistant_id='asst_gc37nJMxpASWMkSZuGsXNw9A', cancelled_at=None, completed_at=1700421730, created_at=1700421724, expires_at=None, failed_at=None, file_ids=[], instructions='You are a personal Python tutor. Write and run code to answer python questions', last_error=None, metadata={}, model='gpt-4-1106-preview', object='thread.run', required_action=None, started_at=1700421725, status='completed', thread_id='thread_les8EgAL1gdD7Hm1RzW0x91f', tools=[ToolAssistantToolsCode(type='code_interpreter')])\n"
     ]
    }
   ],
   "source": [
    "# the run status can tell you whether the run is complete or not\n",
    "# you will get no result when you print the message before the run is complete\n",
    "run_status = client.beta.threads.runs.retrieve(\n",
    "  thread_id=thread.id,\n",
    "  run_id=run.id\n",
    ")\n",
    "print(run_status)"
   ]
  },
  {
   "cell_type": "code",
   "execution_count": 16,
   "metadata": {},
   "outputs": [
    {
     "name": "stdout",
     "output_type": "stream",
     "text": [
      "user: create code to reverse a hello in python - show the code\n",
      "assistant: Certainly! Here is a simple Python code to reverse the word \"hello\":\n",
      "\n",
      "```python\n",
      "# The word to reverse\n",
      "word = \"hello\"\n",
      "\n",
      "# Reverse the word using slicing\n",
      "reversed_word = word[::-1]\n",
      "\n",
      "# Print the reversed word\n",
      "print(reversed_word)\n",
      "```\n",
      "\n",
      "Now let's run this code:\n",
      "assistant: The word \"hello\" has been reversed to \"olleh\" using the slicing method in Python.\n"
     ]
    }
   ],
   "source": [
    "messages = client.beta.threads.messages.list(\n",
    "    thread_id=thread.id,\n",
    ")\n",
    "for message in reversed(messages.data):\n",
    "    print(message.role + \": \" + message.content[0].text.value)"
   ]
  },
  {
   "cell_type": "code",
   "execution_count": 17,
   "metadata": {},
   "outputs": [],
   "source": [
    "# add another message to the thread\n",
    "message = client.beta.threads.messages.create(\n",
    "    thread_id=thread.id,\n",
    "    role=\"user\",\n",
    "    content=\"create a decision tree model to predict the price of a house in python - show the code\",\n",
    ")"
   ]
  },
  {
   "cell_type": "code",
   "execution_count": 18,
   "metadata": {},
   "outputs": [
    {
     "name": "stdout",
     "output_type": "stream",
     "text": [
      "user: create code to reverse a hello in python - show the code\n",
      "assistant: Certainly! Here is a simple Python code to reverse the word \"hello\":\n",
      "\n",
      "```python\n",
      "# The word to reverse\n",
      "word = \"hello\"\n",
      "\n",
      "# Reverse the word using slicing\n",
      "reversed_word = word[::-1]\n",
      "\n",
      "# Print the reversed word\n",
      "print(reversed_word)\n",
      "```\n",
      "\n",
      "Now let's run this code:\n",
      "assistant: The word \"hello\" has been reversed to \"olleh\" using the slicing method in Python.\n",
      "user: create a decision tree model to predict the price of a house in python - show the code\n"
     ]
    }
   ],
   "source": [
    "messages = client.beta.threads.messages.list(\n",
    "    thread_id=thread.id,\n",
    ")\n",
    "for message in reversed(messages.data):\n",
    "    print(message.role + \": \" + message.content[0].text.value)"
   ]
  },
  {
   "cell_type": "code",
   "execution_count": 19,
   "metadata": {},
   "outputs": [
    {
     "name": "stdout",
     "output_type": "stream",
     "text": [
      "Run(id='run_Gucex6NJIqYBPMdLYFFdxgEK', assistant_id='asst_gc37nJMxpASWMkSZuGsXNw9A', cancelled_at=None, completed_at=None, created_at=1700421951, expires_at=1700422551, failed_at=None, file_ids=[], instructions='You are a personal Python tutor. Write and run code to answer python questions', last_error=None, metadata={}, model='gpt-4-1106-preview', object='thread.run', required_action=None, started_at=None, status='queued', thread_id='thread_les8EgAL1gdD7Hm1RzW0x91f', tools=[ToolAssistantToolsCode(type='code_interpreter')])\n"
     ]
    }
   ],
   "source": [
    "run = client.beta.threads.runs.create(\n",
    "    thread_id=thread.id,\n",
    "    assistant_id=assistant.id,\n",
    ")\n",
    "print(run)"
   ]
  },
  {
   "cell_type": "code",
   "execution_count": 22,
   "metadata": {},
   "outputs": [
    {
     "name": "stdout",
     "output_type": "stream",
     "text": [
      "user: create code to reverse a hello in python - show the code\n",
      "assistant: Certainly! Here is a simple Python code to reverse the word \"hello\":\n",
      "\n",
      "```python\n",
      "# The word to reverse\n",
      "word = \"hello\"\n",
      "\n",
      "# Reverse the word using slicing\n",
      "reversed_word = word[::-1]\n",
      "\n",
      "# Print the reversed word\n",
      "print(reversed_word)\n",
      "```\n",
      "\n",
      "Now let's run this code:\n",
      "assistant: The word \"hello\" has been reversed to \"olleh\" using the slicing method in Python.\n",
      "user: create a decision tree model to predict the price of a house in python - show the code\n",
      "assistant: To create a decision tree model to predict the house prices, we would normally need a dataset containing the features of the houses and their corresponding prices. Since I can't access external data, I'll provide a code example that assumes you have a dataset in a CSV file named 'house_prices.csv' with features like 'number_of_rooms', 'area', 'location', and 'price'.\n",
      "\n",
      "Here's a general outline of the code you would write to create and train a decision tree model for predicting house prices:\n",
      "\n",
      "```python\n",
      "import pandas as pd\n",
      "from sklearn.model_selection import train_test_split\n",
      "from sklearn.tree import DecisionTreeRegressor\n",
      "from sklearn.metrics import mean_squared_error\n",
      "\n",
      "# Load the dataset\n",
      "data = pd.read_csv('house_prices.csv')\n",
      "\n",
      "# Select features and target\n",
      "X = data[['number_of_rooms', 'area', 'location']]  # Example features\n",
      "y = data['price']  # Target\n",
      "\n",
      "# Split the data into training and testing sets\n",
      "X_train, X_test, y_train, y_test = train_test_split(X, y, test_size=0.2, random_state=42)\n",
      "\n",
      "# Initialize the DecisionTreeRegressor\n",
      "dt_regressor = DecisionTreeRegressor(random_state=42)\n",
      "\n",
      "# Fit the model\n",
      "dt_regressor.fit(X_train, y_train)\n",
      "\n",
      "# Make predictions\n",
      "y_pred = dt_regressor.predict(X_test)\n",
      "\n",
      "# Evaluate the model\n",
      "mse = mean_squared_error(y_test, y_pred)\n",
      "rmse = mse ** 0.5\n",
      "\n",
      "# Print the RMSE\n",
      "print(f'Root Mean Squared Error: {rmse}')\n",
      "```\n",
      "\n",
      "If you have a specific dataset and if you can provide it to me or tell me the features it includes, I could run a more accurate example for you. However, without actual data, I cannot demonstrate the code's execution.\n"
     ]
    }
   ],
   "source": [
    "messages = client.beta.threads.messages.list(\n",
    "    thread_id=thread.id,\n",
    ")\n",
    "for message in reversed(messages.data):\n",
    "    print(message.role + \": \" + message.content[0].text.value)"
   ]
  },
  {
   "cell_type": "markdown",
   "metadata": {},
   "source": [
    "# File"
   ]
  },
  {
   "cell_type": "code",
   "execution_count": 26,
   "metadata": {},
   "outputs": [],
   "source": [
    "file = client.files.create(\n",
    "    purpose=\"assistants\",\n",
    "    file=open(\"PCS-GuideF23.pdf\", \"rb\"),\n",
    ")"
   ]
  },
  {
   "cell_type": "code",
   "execution_count": 27,
   "metadata": {},
   "outputs": [
    {
     "name": "stdout",
     "output_type": "stream",
     "text": [
      "FileObject(id='file-qwAjDshJIfBVuEzeoKSnoHBz', bytes=2822833, created_at=1700418396, filename='PCS-GuideF23.pdf', object='file', purpose='assistants', status='processed', status_details=None)\n"
     ]
    }
   ],
   "source": [
    "print(file)"
   ]
  },
  {
   "cell_type": "code",
   "execution_count": 28,
   "metadata": {},
   "outputs": [],
   "source": [
    "assistant = client.beta.assistants.create(\n",
    "    name=\"academic advisor\",\n",
    "    instructions=\"you are an academic advisor. you can answer questions about courses, majors, and graduation requirements\",\n",
    "    tools = [{\"type\": \"retrieval\"}],\n",
    "    model = \"gpt-4-1106-preview\",\n",
    "    file_ids=[\"file-qwAjDshJIfBVuEzeoKSnoHBz\"],\n",
    ")"
   ]
  },
  {
   "cell_type": "code",
   "execution_count": 29,
   "metadata": {},
   "outputs": [],
   "source": [
    "thread = client.beta.threads.create()\n",
    "\n",
    "message = client.beta.threads.messages.create(\n",
    "    thread_id=thread.id,\n",
    "    role=\"user\",\n",
    "    content=\"are there any art courses offered this semester?\",\n",
    ")"
   ]
  },
  {
   "cell_type": "code",
   "execution_count": 31,
   "metadata": {},
   "outputs": [
    {
     "name": "stdout",
     "output_type": "stream",
     "text": [
      "user: are there any art courses offered this semester?\n",
      "assistant: Yes, there are several art courses offered this semester, including:\n",
      "\n",
      "- Card Making (offered in Lewes, Ocean View, and Wilmington)\n",
      "- Creating Comics (offered in Wilmington)\n",
      "- Fiber Arts Fabric Dyeing (offered in Wilmington)\n",
      "- Gothic Cathedrals (offered in Wilmington)\n",
      "- Photography (offered online)\n",
      "- Stained Glass (offered in Lewes)\n",
      "- Watercolor Painting (offered in Ocean View, online, and Wilmington)【7†source】.\n"
     ]
    }
   ],
   "source": [
    "run = client.beta.threads.runs.create(\n",
    "    thread_id=thread.id,\n",
    "    assistant_id=assistant.id,\n",
    ")\n",
    "\n",
    "runs = client.beta.threads.runs.retrieve(\n",
    "    thread_id=thread.id,\n",
    "    run_id=run.id,\n",
    ")\n",
    "\n",
    "messages = client.beta.threads.messages.list(\n",
    "    thread_id=thread.id,\n",
    ")\n",
    "\n",
    "for message in reversed(messages.data):\n",
    "    print(message.role + \": \" + message.content[0].text.value)"
   ]
  },
  {
   "cell_type": "code",
   "execution_count": null,
   "metadata": {},
   "outputs": [],
   "source": []
  }
 ],
 "metadata": {
  "kernelspec": {
   "display_name": "venv",
   "language": "python",
   "name": "python3"
  },
  "language_info": {
   "codemirror_mode": {
    "name": "ipython",
    "version": 3
   },
   "file_extension": ".py",
   "mimetype": "text/x-python",
   "name": "python",
   "nbconvert_exporter": "python",
   "pygments_lexer": "ipython3",
   "version": "3.10.6"
  }
 },
 "nbformat": 4,
 "nbformat_minor": 2
}
