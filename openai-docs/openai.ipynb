{
 "cells": [
  {
   "cell_type": "code",
   "execution_count": 11,
   "metadata": {},
   "outputs": [],
   "source": [
    "from openai import OpenAI\n",
    "client = OpenAI()\n",
    "\n",
    "response = client.chat.completions.create(\n",
    "  model=\"gpt-4-1106-preview\",\n",
    "  messages=[\n",
    "    {\"role\": \"system\", \"content\": \"You are a helpful assistant.\"},\n",
    "    {\"role\": \"user\", \"content\": \"What team won the 2022 NBA championship?\"},\n",
    "    {\"role\": \"assistant\", \"content\": \"The Golden State Warriors won the 2022 NBA championship.\"},\n",
    "    {\"role\": \"user\", \"content\": \"Where was it played?\"}\n",
    "  ]\n",
    ")"
   ]
  },
  {
   "cell_type": "code",
   "execution_count": 12,
   "metadata": {},
   "outputs": [
    {
     "data": {
      "text/plain": [
       "ChatCompletion(id='chatcmpl-8ILdqEK2HAXa0jwJeHJVDwResROfi', choices=[Choice(finish_reason='stop', index=0, message=ChatCompletionMessage(content=\"The 2022 NBA Finals series, where the championship is decided, took place at the home arenas of the two final teams competing for the title. The Golden State Warriors faced off against the Boston Celtics. The Warriors' home games were played at the Chase Center in San Francisco, California, while the Celtics' home games took place at the TD Garden in Boston, Massachusetts. The Golden State Warriors secured the championship in Game 6, which was played at the TD Garden.\", role='assistant', function_call=None, tool_calls=None))], created=1699383786, model='gpt-4-1106-preview', object='chat.completion', system_fingerprint='fp_a24b4d720c', usage=CompletionUsage(completion_tokens=95, prompt_tokens=52, total_tokens=147))"
      ]
     },
     "execution_count": 12,
     "metadata": {},
     "output_type": "execute_result"
    }
   ],
   "source": [
    "response"
   ]
  },
  {
   "cell_type": "code",
   "execution_count": 13,
   "metadata": {},
   "outputs": [
    {
     "data": {
      "text/plain": [
       "\"The 2022 NBA Finals series, where the championship is decided, took place at the home arenas of the two final teams competing for the title. The Golden State Warriors faced off against the Boston Celtics. The Warriors' home games were played at the Chase Center in San Francisco, California, while the Celtics' home games took place at the TD Garden in Boston, Massachusetts. The Golden State Warriors secured the championship in Game 6, which was played at the TD Garden.\""
      ]
     },
     "execution_count": 13,
     "metadata": {},
     "output_type": "execute_result"
    }
   ],
   "source": [
    "response.choices[0].message.content"
   ]
  },
  {
   "cell_type": "code",
   "execution_count": null,
   "metadata": {},
   "outputs": [],
   "source": []
  }
 ],
 "metadata": {
  "kernelspec": {
   "display_name": "venv",
   "language": "python",
   "name": "python3"
  },
  "language_info": {
   "codemirror_mode": {
    "name": "ipython",
    "version": 3
   },
   "file_extension": ".py",
   "mimetype": "text/x-python",
   "name": "python",
   "nbconvert_exporter": "python",
   "pygments_lexer": "ipython3",
   "version": "3.10.6"
  }
 },
 "nbformat": 4,
 "nbformat_minor": 2
}
